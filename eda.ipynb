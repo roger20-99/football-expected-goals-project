{
 "cells": [
  {
   "cell_type": "markdown",
   "metadata": {},
   "source": [
    "# Final Project Exploratory Data Analysis\n",
    "\n",
    "Do your EDA in this notebook!"
   ]
  },
  {
   "cell_type": "markdown",
   "metadata": {},
   "source": [
    "As usual, first we will import the libraries we need for this project"
   ]
  },
  {
   "cell_type": "code",
   "execution_count": 1,
   "metadata": {},
   "outputs": [],
   "source": [
    "import pandas as pd\n",
    "import matplotlib.pyplot as plt"
   ]
  },
  {
   "cell_type": "markdown",
   "metadata": {},
   "source": [
    "When we check the data folder, there's only one CSV file in it"
   ]
  },
  {
   "cell_type": "code",
   "execution_count": 2,
   "metadata": {},
   "outputs": [
    {
     "name": "stdout",
     "output_type": "stream",
     "text": [
      "understat_per_game.csv\r\n"
     ]
    }
   ],
   "source": [
    "!ls data"
   ]
  },
  {
   "cell_type": "code",
   "execution_count": 3,
   "metadata": {},
   "outputs": [],
   "source": [
    "stats_per_game = pd.read_csv('data/understat_per_game.csv')"
   ]
  },
  {
   "cell_type": "code",
   "execution_count": 4,
   "metadata": {},
   "outputs": [
    {
     "data": {
      "text/html": [
       "<div>\n",
       "<style scoped>\n",
       "    .dataframe tbody tr th:only-of-type {\n",
       "        vertical-align: middle;\n",
       "    }\n",
       "\n",
       "    .dataframe tbody tr th {\n",
       "        vertical-align: top;\n",
       "    }\n",
       "\n",
       "    .dataframe thead th {\n",
       "        text-align: right;\n",
       "    }\n",
       "</style>\n",
       "<table border=\"1\" class=\"dataframe\">\n",
       "  <thead>\n",
       "    <tr style=\"text-align: right;\">\n",
       "      <th></th>\n",
       "      <th>league</th>\n",
       "      <th>year</th>\n",
       "      <th>date</th>\n",
       "      <th>team</th>\n",
       "      <th>h_a</th>\n",
       "      <th>scored</th>\n",
       "      <th>missed</th>\n",
       "      <th>result</th>\n",
       "      <th>pts</th>\n",
       "      <th>xG</th>\n",
       "      <th>xGA</th>\n",
       "      <th>npxG</th>\n",
       "      <th>npxGA</th>\n",
       "      <th>xpts</th>\n",
       "      <th>npxGD</th>\n",
       "      <th>xG_diff</th>\n",
       "      <th>xGA_diff</th>\n",
       "      <th>xpts_diff</th>\n",
       "    </tr>\n",
       "  </thead>\n",
       "  <tbody>\n",
       "    <tr>\n",
       "      <th>0</th>\n",
       "      <td>Bundesliga</td>\n",
       "      <td>2014</td>\n",
       "      <td>22/08/2014 19:30</td>\n",
       "      <td>Bayern Munich</td>\n",
       "      <td>h</td>\n",
       "      <td>2</td>\n",
       "      <td>1</td>\n",
       "      <td>w</td>\n",
       "      <td>3</td>\n",
       "      <td>2.57012</td>\n",
       "      <td>1.198420</td>\n",
       "      <td>2.57012</td>\n",
       "      <td>1.198420</td>\n",
       "      <td>2.3486</td>\n",
       "      <td>1.371700</td>\n",
       "      <td>0.57012</td>\n",
       "      <td>0.198420</td>\n",
       "      <td>-0.6514</td>\n",
       "    </tr>\n",
       "    <tr>\n",
       "      <th>1</th>\n",
       "      <td>Bundesliga</td>\n",
       "      <td>2014</td>\n",
       "      <td>30/08/2014 17:30</td>\n",
       "      <td>Bayern Munich</td>\n",
       "      <td>a</td>\n",
       "      <td>1</td>\n",
       "      <td>1</td>\n",
       "      <td>d</td>\n",
       "      <td>1</td>\n",
       "      <td>1.50328</td>\n",
       "      <td>1.307950</td>\n",
       "      <td>1.50328</td>\n",
       "      <td>1.307950</td>\n",
       "      <td>1.5143</td>\n",
       "      <td>0.195330</td>\n",
       "      <td>0.50328</td>\n",
       "      <td>0.307950</td>\n",
       "      <td>0.5143</td>\n",
       "    </tr>\n",
       "    <tr>\n",
       "      <th>2</th>\n",
       "      <td>Bundesliga</td>\n",
       "      <td>2014</td>\n",
       "      <td>13/09/2014 14:30</td>\n",
       "      <td>Bayern Munich</td>\n",
       "      <td>h</td>\n",
       "      <td>2</td>\n",
       "      <td>0</td>\n",
       "      <td>w</td>\n",
       "      <td>3</td>\n",
       "      <td>1.22987</td>\n",
       "      <td>0.310166</td>\n",
       "      <td>1.22987</td>\n",
       "      <td>0.310166</td>\n",
       "      <td>2.1588</td>\n",
       "      <td>0.919704</td>\n",
       "      <td>-0.77013</td>\n",
       "      <td>0.310166</td>\n",
       "      <td>-0.8412</td>\n",
       "    </tr>\n",
       "    <tr>\n",
       "      <th>3</th>\n",
       "      <td>Bundesliga</td>\n",
       "      <td>2014</td>\n",
       "      <td>20/09/2014 14:30</td>\n",
       "      <td>Bayern Munich</td>\n",
       "      <td>a</td>\n",
       "      <td>0</td>\n",
       "      <td>0</td>\n",
       "      <td>d</td>\n",
       "      <td>1</td>\n",
       "      <td>1.03519</td>\n",
       "      <td>0.203118</td>\n",
       "      <td>1.03519</td>\n",
       "      <td>0.203118</td>\n",
       "      <td>2.1367</td>\n",
       "      <td>0.832072</td>\n",
       "      <td>1.03519</td>\n",
       "      <td>0.203118</td>\n",
       "      <td>1.1367</td>\n",
       "    </tr>\n",
       "    <tr>\n",
       "      <th>4</th>\n",
       "      <td>Bundesliga</td>\n",
       "      <td>2014</td>\n",
       "      <td>23/09/2014 19:00</td>\n",
       "      <td>Bayern Munich</td>\n",
       "      <td>h</td>\n",
       "      <td>4</td>\n",
       "      <td>0</td>\n",
       "      <td>w</td>\n",
       "      <td>3</td>\n",
       "      <td>3.48286</td>\n",
       "      <td>0.402844</td>\n",
       "      <td>3.48286</td>\n",
       "      <td>0.402844</td>\n",
       "      <td>2.9287</td>\n",
       "      <td>3.080016</td>\n",
       "      <td>-0.51714</td>\n",
       "      <td>0.402844</td>\n",
       "      <td>-0.0713</td>\n",
       "    </tr>\n",
       "  </tbody>\n",
       "</table>\n",
       "</div>"
      ],
      "text/plain": [
       "       league  year              date           team h_a  scored  missed  \\\n",
       "0  Bundesliga  2014  22/08/2014 19:30  Bayern Munich   h       2       1   \n",
       "1  Bundesliga  2014  30/08/2014 17:30  Bayern Munich   a       1       1   \n",
       "2  Bundesliga  2014  13/09/2014 14:30  Bayern Munich   h       2       0   \n",
       "3  Bundesliga  2014  20/09/2014 14:30  Bayern Munich   a       0       0   \n",
       "4  Bundesliga  2014  23/09/2014 19:00  Bayern Munich   h       4       0   \n",
       "\n",
       "  result  pts       xG       xGA     npxG     npxGA    xpts     npxGD  \\\n",
       "0      w    3  2.57012  1.198420  2.57012  1.198420  2.3486  1.371700   \n",
       "1      d    1  1.50328  1.307950  1.50328  1.307950  1.5143  0.195330   \n",
       "2      w    3  1.22987  0.310166  1.22987  0.310166  2.1588  0.919704   \n",
       "3      d    1  1.03519  0.203118  1.03519  0.203118  2.1367  0.832072   \n",
       "4      w    3  3.48286  0.402844  3.48286  0.402844  2.9287  3.080016   \n",
       "\n",
       "   xG_diff  xGA_diff  xpts_diff  \n",
       "0  0.57012  0.198420    -0.6514  \n",
       "1  0.50328  0.307950     0.5143  \n",
       "2 -0.77013  0.310166    -0.8412  \n",
       "3  1.03519  0.203118     1.1367  \n",
       "4 -0.51714  0.402844    -0.0713  "
      ]
     },
     "execution_count": 4,
     "metadata": {},
     "output_type": "execute_result"
    }
   ],
   "source": [
    "stats_per_game.head()"
   ]
  },
  {
   "cell_type": "code",
   "execution_count": 5,
   "metadata": {},
   "outputs": [
    {
     "data": {
      "text/html": [
       "<div>\n",
       "<style scoped>\n",
       "    .dataframe tbody tr th:only-of-type {\n",
       "        vertical-align: middle;\n",
       "    }\n",
       "\n",
       "    .dataframe tbody tr th {\n",
       "        vertical-align: top;\n",
       "    }\n",
       "\n",
       "    .dataframe thead th {\n",
       "        text-align: right;\n",
       "    }\n",
       "</style>\n",
       "<table border=\"1\" class=\"dataframe\">\n",
       "  <thead>\n",
       "    <tr style=\"text-align: right;\">\n",
       "      <th></th>\n",
       "      <th>year</th>\n",
       "      <th>scored</th>\n",
       "      <th>missed</th>\n",
       "      <th>pts</th>\n",
       "      <th>xG</th>\n",
       "      <th>xGA</th>\n",
       "      <th>npxG</th>\n",
       "      <th>npxGA</th>\n",
       "      <th>xpts</th>\n",
       "      <th>npxGD</th>\n",
       "      <th>xG_diff</th>\n",
       "      <th>xGA_diff</th>\n",
       "      <th>xpts_diff</th>\n",
       "    </tr>\n",
       "  </thead>\n",
       "  <tbody>\n",
       "    <tr>\n",
       "      <th>count</th>\n",
       "      <td>24580.000000</td>\n",
       "      <td>24580.000000</td>\n",
       "      <td>24580.000000</td>\n",
       "      <td>24580.000000</td>\n",
       "      <td>24580.000000</td>\n",
       "      <td>24580.000000</td>\n",
       "      <td>24580.000000</td>\n",
       "      <td>24580.000000</td>\n",
       "      <td>24580.000000</td>\n",
       "      <td>2.458000e+04</td>\n",
       "      <td>24580.000000</td>\n",
       "      <td>24580.000000</td>\n",
       "      <td>24580.000000</td>\n",
       "    </tr>\n",
       "    <tr>\n",
       "      <th>mean</th>\n",
       "      <td>2016.478438</td>\n",
       "      <td>1.341009</td>\n",
       "      <td>1.341009</td>\n",
       "      <td>1.373841</td>\n",
       "      <td>1.309694</td>\n",
       "      <td>1.309694</td>\n",
       "      <td>1.193872</td>\n",
       "      <td>1.193872</td>\n",
       "      <td>1.378563</td>\n",
       "      <td>7.317174e-19</td>\n",
       "      <td>-0.031315</td>\n",
       "      <td>-0.031315</td>\n",
       "      <td>0.004723</td>\n",
       "    </tr>\n",
       "    <tr>\n",
       "      <th>std</th>\n",
       "      <td>1.699285</td>\n",
       "      <td>1.244176</td>\n",
       "      <td>1.244176</td>\n",
       "      <td>1.315111</td>\n",
       "      <td>0.841109</td>\n",
       "      <td>0.841109</td>\n",
       "      <td>0.774719</td>\n",
       "      <td>0.774719</td>\n",
       "      <td>0.823751</td>\n",
       "      <td>1.205702e+00</td>\n",
       "      <td>0.951362</td>\n",
       "      <td>0.951362</td>\n",
       "      <td>1.051608</td>\n",
       "    </tr>\n",
       "    <tr>\n",
       "      <th>min</th>\n",
       "      <td>2014.000000</td>\n",
       "      <td>0.000000</td>\n",
       "      <td>0.000000</td>\n",
       "      <td>0.000000</td>\n",
       "      <td>0.000000</td>\n",
       "      <td>0.000000</td>\n",
       "      <td>0.000000</td>\n",
       "      <td>0.000000</td>\n",
       "      <td>0.000000</td>\n",
       "      <td>-6.007965e+00</td>\n",
       "      <td>-5.943560</td>\n",
       "      <td>-5.943560</td>\n",
       "      <td>-2.965500</td>\n",
       "    </tr>\n",
       "    <tr>\n",
       "      <th>25%</th>\n",
       "      <td>2015.000000</td>\n",
       "      <td>0.000000</td>\n",
       "      <td>0.000000</td>\n",
       "      <td>0.000000</td>\n",
       "      <td>0.681165</td>\n",
       "      <td>0.681165</td>\n",
       "      <td>0.621734</td>\n",
       "      <td>0.621734</td>\n",
       "      <td>0.673950</td>\n",
       "      <td>-7.306208e-01</td>\n",
       "      <td>-0.593430</td>\n",
       "      <td>-0.593430</td>\n",
       "      <td>-0.679800</td>\n",
       "    </tr>\n",
       "    <tr>\n",
       "      <th>50%</th>\n",
       "      <td>2016.000000</td>\n",
       "      <td>1.000000</td>\n",
       "      <td>1.000000</td>\n",
       "      <td>1.000000</td>\n",
       "      <td>1.150595</td>\n",
       "      <td>1.150595</td>\n",
       "      <td>1.040425</td>\n",
       "      <td>1.040425</td>\n",
       "      <td>1.328900</td>\n",
       "      <td>0.000000e+00</td>\n",
       "      <td>0.092995</td>\n",
       "      <td>0.092995</td>\n",
       "      <td>0.093950</td>\n",
       "    </tr>\n",
       "    <tr>\n",
       "      <th>75%</th>\n",
       "      <td>2018.000000</td>\n",
       "      <td>2.000000</td>\n",
       "      <td>2.000000</td>\n",
       "      <td>3.000000</td>\n",
       "      <td>1.769455</td>\n",
       "      <td>1.769455</td>\n",
       "      <td>1.597640</td>\n",
       "      <td>1.597640</td>\n",
       "      <td>2.051025</td>\n",
       "      <td>7.306208e-01</td>\n",
       "      <td>0.588477</td>\n",
       "      <td>0.588477</td>\n",
       "      <td>0.739575</td>\n",
       "    </tr>\n",
       "    <tr>\n",
       "      <th>max</th>\n",
       "      <td>2019.000000</td>\n",
       "      <td>10.000000</td>\n",
       "      <td>10.000000</td>\n",
       "      <td>3.000000</td>\n",
       "      <td>6.630490</td>\n",
       "      <td>6.630490</td>\n",
       "      <td>6.610910</td>\n",
       "      <td>6.610910</td>\n",
       "      <td>3.000000</td>\n",
       "      <td>6.007965e+00</td>\n",
       "      <td>5.063130</td>\n",
       "      <td>5.063130</td>\n",
       "      <td>2.940900</td>\n",
       "    </tr>\n",
       "  </tbody>\n",
       "</table>\n",
       "</div>"
      ],
      "text/plain": [
       "               year        scored        missed           pts            xG  \\\n",
       "count  24580.000000  24580.000000  24580.000000  24580.000000  24580.000000   \n",
       "mean    2016.478438      1.341009      1.341009      1.373841      1.309694   \n",
       "std        1.699285      1.244176      1.244176      1.315111      0.841109   \n",
       "min     2014.000000      0.000000      0.000000      0.000000      0.000000   \n",
       "25%     2015.000000      0.000000      0.000000      0.000000      0.681165   \n",
       "50%     2016.000000      1.000000      1.000000      1.000000      1.150595   \n",
       "75%     2018.000000      2.000000      2.000000      3.000000      1.769455   \n",
       "max     2019.000000     10.000000     10.000000      3.000000      6.630490   \n",
       "\n",
       "                xGA          npxG         npxGA          xpts         npxGD  \\\n",
       "count  24580.000000  24580.000000  24580.000000  24580.000000  2.458000e+04   \n",
       "mean       1.309694      1.193872      1.193872      1.378563  7.317174e-19   \n",
       "std        0.841109      0.774719      0.774719      0.823751  1.205702e+00   \n",
       "min        0.000000      0.000000      0.000000      0.000000 -6.007965e+00   \n",
       "25%        0.681165      0.621734      0.621734      0.673950 -7.306208e-01   \n",
       "50%        1.150595      1.040425      1.040425      1.328900  0.000000e+00   \n",
       "75%        1.769455      1.597640      1.597640      2.051025  7.306208e-01   \n",
       "max        6.630490      6.610910      6.610910      3.000000  6.007965e+00   \n",
       "\n",
       "            xG_diff      xGA_diff     xpts_diff  \n",
       "count  24580.000000  24580.000000  24580.000000  \n",
       "mean      -0.031315     -0.031315      0.004723  \n",
       "std        0.951362      0.951362      1.051608  \n",
       "min       -5.943560     -5.943560     -2.965500  \n",
       "25%       -0.593430     -0.593430     -0.679800  \n",
       "50%        0.092995      0.092995      0.093950  \n",
       "75%        0.588477      0.588477      0.739575  \n",
       "max        5.063130      5.063130      2.940900  "
      ]
     },
     "execution_count": 5,
     "metadata": {},
     "output_type": "execute_result"
    }
   ],
   "source": [
    "stats_per_game.describe()"
   ]
  },
  {
   "cell_type": "code",
   "execution_count": 6,
   "metadata": {},
   "outputs": [
    {
     "data": {
      "text/html": [
       "<div>\n",
       "<style scoped>\n",
       "    .dataframe tbody tr th:only-of-type {\n",
       "        vertical-align: middle;\n",
       "    }\n",
       "\n",
       "    .dataframe tbody tr th {\n",
       "        vertical-align: top;\n",
       "    }\n",
       "\n",
       "    .dataframe thead th {\n",
       "        text-align: right;\n",
       "    }\n",
       "</style>\n",
       "<table border=\"1\" class=\"dataframe\">\n",
       "  <thead>\n",
       "    <tr style=\"text-align: right;\">\n",
       "      <th></th>\n",
       "      <th>league</th>\n",
       "      <th>year</th>\n",
       "      <th>date</th>\n",
       "      <th>team</th>\n",
       "      <th>h_a</th>\n",
       "      <th>scored</th>\n",
       "      <th>missed</th>\n",
       "      <th>result</th>\n",
       "      <th>pts</th>\n",
       "      <th>xG</th>\n",
       "      <th>xGA</th>\n",
       "      <th>npxG</th>\n",
       "      <th>npxGA</th>\n",
       "      <th>xpts</th>\n",
       "      <th>npxGD</th>\n",
       "      <th>xG_diff</th>\n",
       "      <th>xGA_diff</th>\n",
       "      <th>xpts_diff</th>\n",
       "    </tr>\n",
       "  </thead>\n",
       "  <tbody>\n",
       "    <tr>\n",
       "      <th>0</th>\n",
       "      <td>True</td>\n",
       "      <td>True</td>\n",
       "      <td>True</td>\n",
       "      <td>True</td>\n",
       "      <td>True</td>\n",
       "      <td>True</td>\n",
       "      <td>True</td>\n",
       "      <td>True</td>\n",
       "      <td>True</td>\n",
       "      <td>True</td>\n",
       "      <td>True</td>\n",
       "      <td>True</td>\n",
       "      <td>True</td>\n",
       "      <td>True</td>\n",
       "      <td>True</td>\n",
       "      <td>True</td>\n",
       "      <td>True</td>\n",
       "      <td>True</td>\n",
       "    </tr>\n",
       "    <tr>\n",
       "      <th>1</th>\n",
       "      <td>True</td>\n",
       "      <td>True</td>\n",
       "      <td>True</td>\n",
       "      <td>True</td>\n",
       "      <td>True</td>\n",
       "      <td>True</td>\n",
       "      <td>True</td>\n",
       "      <td>True</td>\n",
       "      <td>True</td>\n",
       "      <td>True</td>\n",
       "      <td>True</td>\n",
       "      <td>True</td>\n",
       "      <td>True</td>\n",
       "      <td>True</td>\n",
       "      <td>True</td>\n",
       "      <td>True</td>\n",
       "      <td>True</td>\n",
       "      <td>True</td>\n",
       "    </tr>\n",
       "    <tr>\n",
       "      <th>2</th>\n",
       "      <td>True</td>\n",
       "      <td>True</td>\n",
       "      <td>True</td>\n",
       "      <td>True</td>\n",
       "      <td>True</td>\n",
       "      <td>True</td>\n",
       "      <td>True</td>\n",
       "      <td>True</td>\n",
       "      <td>True</td>\n",
       "      <td>True</td>\n",
       "      <td>True</td>\n",
       "      <td>True</td>\n",
       "      <td>True</td>\n",
       "      <td>True</td>\n",
       "      <td>True</td>\n",
       "      <td>True</td>\n",
       "      <td>True</td>\n",
       "      <td>True</td>\n",
       "    </tr>\n",
       "  </tbody>\n",
       "</table>\n",
       "</div>"
      ],
      "text/plain": [
       "   league  year  date  team   h_a  scored  missed  result   pts    xG   xGA  \\\n",
       "0    True  True  True  True  True    True    True    True  True  True  True   \n",
       "1    True  True  True  True  True    True    True    True  True  True  True   \n",
       "2    True  True  True  True  True    True    True    True  True  True  True   \n",
       "\n",
       "   npxG  npxGA  xpts  npxGD  xG_diff  xGA_diff  xpts_diff  \n",
       "0  True   True  True   True     True      True       True  \n",
       "1  True   True  True   True     True      True       True  \n",
       "2  True   True  True   True     True      True       True  "
      ]
     },
     "execution_count": 6,
     "metadata": {},
     "output_type": "execute_result"
    }
   ],
   "source": [
    "stats_per_game.notnull().head(3)"
   ]
  },
  {
   "cell_type": "code",
   "execution_count": 7,
   "metadata": {},
   "outputs": [
    {
     "data": {
      "text/plain": [
       "(24580, 18)"
      ]
     },
     "execution_count": 7,
     "metadata": {},
     "output_type": "execute_result"
    }
   ],
   "source": [
    "stats_per_game.shape"
   ]
  },
  {
   "cell_type": "code",
   "execution_count": 8,
   "metadata": {},
   "outputs": [
    {
     "data": {
      "text/plain": [
       "league       0\n",
       "year         0\n",
       "date         0\n",
       "team         0\n",
       "h_a          0\n",
       "scored       0\n",
       "missed       0\n",
       "result       0\n",
       "pts          0\n",
       "xG           0\n",
       "xGA          0\n",
       "npxG         0\n",
       "npxGA        0\n",
       "xpts         0\n",
       "npxGD        0\n",
       "xG_diff      0\n",
       "xGA_diff     0\n",
       "xpts_diff    0\n",
       "dtype: int64"
      ]
     },
     "execution_count": 8,
     "metadata": {},
     "output_type": "execute_result"
    }
   ],
   "source": [
    "stats_per_game.isnull().sum()"
   ]
  },
  {
   "cell_type": "code",
   "execution_count": 9,
   "metadata": {},
   "outputs": [
    {
     "data": {
      "text/plain": [
       "La_liga       4560\n",
       "EPL           4560\n",
       "Serie_A       4550\n",
       "Ligue_1       4358\n",
       "Bundesliga    3672\n",
       "RFPL          2880\n",
       "Name: league, dtype: int64"
      ]
     },
     "execution_count": 9,
     "metadata": {},
     "output_type": "execute_result"
    }
   ],
   "source": [
    "stats_per_game['league'].dropna().value_counts(dropna=False)"
   ]
  },
  {
   "cell_type": "markdown",
   "metadata": {},
   "source": [
    "If we look at the frequency of how many times a particular league appears in the database, we notice that EPL, La Liga, and Serie A has similar numbers, while the remaining leagues appear less. But why?"
   ]
  },
  {
   "cell_type": "markdown",
   "metadata": {},
   "source": [
    "The number of games in any football league depends on **the number of participating clubs**. For example, there are 20 clubs participating in EPL, La Liga, Serie A, and Ligue 1 (18 in Bundesliga and 16 for Russian League) , and that means a total of **380 games** per season. Since we are showing the results for each club individually for each game, we multiply by 2 and get 760 rows of database. Finally, we multiply 760 by 6 (number of years in this data) and get the number above. \n",
    "\n",
    "**Note 1**: Since the Ligue 1 2019-20 season was cancelled after playing 28 rounds due to the Covid-19 pandemic, there are only 4358 rows of data for this league, including only partial data for the 2019-20 season"
   ]
  },
  {
   "cell_type": "markdown",
   "metadata": {},
   "source": [
    "**Note 2**: For Serie A, there were 5 incompleted games that were not included in the database when I download the database. So there are only 4550 rows of data for this league"
   ]
  },
  {
   "cell_type": "code",
   "execution_count": 10,
   "metadata": {},
   "outputs": [
    {
     "data": {
      "text/plain": [
       "153                   AC Milan\n",
       "78                      Alaves\n",
       "73                     Almeria\n",
       "109                     Amiens\n",
       "123                      Amkar\n",
       "                ...           \n",
       "28        West Bromwich Albion\n",
       "32                    West Ham\n",
       "12                   Wolfsburg\n",
       "52     Wolverhampton Wanderers\n",
       "119       Zenit St. Petersburg\n",
       "Length: 168, dtype: object"
      ]
     },
     "execution_count": 10,
     "metadata": {},
     "output_type": "execute_result"
    }
   ],
   "source": [
    "pd.Series(stats_per_game['team'].unique()).sort_values(ascending=True)"
   ]
  },
  {
   "cell_type": "markdown",
   "metadata": {},
   "source": [
    "There are more than 24000 matches in this database. However, the average (mean) goals scored is low at 1.341. This is not surprising considering that football/soccer is a low-scoring sport, and goals are pretty rare event. "
   ]
  },
  {
   "cell_type": "code",
   "execution_count": 11,
   "metadata": {
    "scrolled": true
   },
   "outputs": [
    {
     "data": {
      "text/plain": [
       "count    24580.000000\n",
       "mean         1.341009\n",
       "std          1.244176\n",
       "min          0.000000\n",
       "25%          0.000000\n",
       "50%          1.000000\n",
       "75%          2.000000\n",
       "max         10.000000\n",
       "Name: scored, dtype: float64"
      ]
     },
     "execution_count": 11,
     "metadata": {},
     "output_type": "execute_result"
    }
   ],
   "source": [
    "stats_per_game['scored'].describe()"
   ]
  },
  {
   "cell_type": "code",
   "execution_count": 12,
   "metadata": {},
   "outputs": [
    {
     "data": {
      "text/plain": [
       "count    6979.000000\n",
       "mean        0.744076\n",
       "std         0.499044\n",
       "min         0.000000\n",
       "25%         0.376219\n",
       "50%         0.639748\n",
       "75%         1.001250\n",
       "max         5.063130\n",
       "Name: xG, dtype: float64"
      ]
     },
     "execution_count": 12,
     "metadata": {},
     "output_type": "execute_result"
    }
   ],
   "source": [
    "expected_goals = stats_per_game[stats_per_game['scored'] == 0]['xG'] \n",
    "expected_goals.describe()"
   ]
  },
  {
   "cell_type": "code",
   "execution_count": 13,
   "metadata": {},
   "outputs": [
    {
     "data": {
      "image/png": "[encoded data removed]",
      "text/plain": [
       "<Figure size 432x288 with 1 Axes>"
      ]
     },
     "metadata": {
      "needs_background": "light"
     },
     "output_type": "display_data"
    }
   ],
   "source": [
    "stats_per_game['missed'].value_counts().sort_index().plot();"
   ]
  },
  {
   "cell_type": "code",
   "execution_count": 14,
   "metadata": {},
   "outputs": [
    {
     "data": {
      "text/plain": [
       "l    9189\n",
       "w    9189\n",
       "d    6202\n",
       "Name: result, dtype: int64"
      ]
     },
     "execution_count": 14,
     "metadata": {},
     "output_type": "execute_result"
    }
   ],
   "source": [
    "stats_per_game['result'].value_counts()"
   ]
  },
  {
   "cell_type": "markdown",
   "metadata": {},
   "source": [
    "Here is a breakdown of the number of goals a club scored per match. As you can see, most games of football will have very few goals (between 0-3 goals). You would barely see a club crushing the opposition by 5 or more goals, because that would mean they scored with almost all the chances they have created."
   ]
  },
  {
   "cell_type": "code",
   "execution_count": 15,
   "metadata": {},
   "outputs": [
    {
     "data": {
      "image/png": "[encoded data removed]",
      "text/plain": [
       "<Figure size 432x288 with 1 Axes>"
      ]
     },
     "metadata": {
      "needs_background": "light"
     },
     "output_type": "display_data"
    }
   ],
   "source": [
    "stats_per_game['scored'].value_counts().plot(kind='bar');"
   ]
  },
  {
   "cell_type": "code",
   "execution_count": 16,
   "metadata": {},
   "outputs": [
    {
     "data": {
      "image/png": "[encoded data removed]",
      "text/plain": [
       "<Figure size 432x288 with 1 Axes>"
      ]
     },
     "metadata": {
      "needs_background": "light"
     },
     "output_type": "display_data"
    }
   ],
   "source": [
    "stats_per_game.xG.plot(kind='hist', bins=8)\n",
    "plt.ylabel('Frequency')\n",
    "plt.xlabel('Number of Expected Goals')\n",
    "plt.title('Expected Goals Distribution');"
   ]
  },
  {
   "cell_type": "markdown",
   "metadata": {},
   "source": [
    "## 1. Expected Goals for Clubs with xG higher than 2 but didn't score any goal"
   ]
  },
  {
   "cell_type": "markdown",
   "metadata": {},
   "source": [
    "Sometimes, creating many shots and goal-scoring opportunities doesn't mean the team would definitely score goals. Below is a histogram showing the distribution of clubs accumulating more than 2 expected goals but didn't score in the match."
   ]
  },
  {
   "cell_type": "code",
   "execution_count": 17,
   "metadata": {},
   "outputs": [
    {
     "data": {
      "text/plain": [
       "(167, 18)"
      ]
     },
     "execution_count": 17,
     "metadata": {},
     "output_type": "execute_result"
    }
   ],
   "source": [
    "no_goals = stats_per_game[(stats_per_game['xG'] > 2) & (stats_per_game['scored'] == 0)]\n",
    "no_goals.shape"
   ]
  },
  {
   "cell_type": "code",
   "execution_count": 18,
   "metadata": {},
   "outputs": [
    {
     "data": {
      "image/png": "[encoded data removed]",
      "text/plain": [
       "<Figure size 432x288 with 1 Axes>"
      ]
     },
     "metadata": {
      "needs_background": "light"
     },
     "output_type": "display_data"
    }
   ],
   "source": [
    "no_goals.xG.plot(kind='hist', bins=10)\n",
    "plt.ylabel('Frequency')\n",
    "plt.xlabel('Number of Expected Goals')\n",
    "plt.title(\"xG Distribution for Clubs with more than 2 xG but didn't score any goal\");"
   ]
  },
  {
   "cell_type": "markdown",
   "metadata": {},
   "source": [
    "In other cases, a club might create very few chances and shots to threaten the opposition, but they managed to get the win. This histogram shows the distribution of how many times expected goals were less than 1. This statistic shows how important it is to score a goal, and not just creating chances that would be squandered."
   ]
  },
  {
   "cell_type": "code",
   "execution_count": 19,
   "metadata": {},
   "outputs": [
    {
     "data": {
      "image/png": "[encoded data removed]",
      "text/plain": [
       "<Figure size 432x288 with 1 Axes>"
      ]
     },
     "metadata": {
      "needs_background": "light"
     },
     "output_type": "display_data"
    }
   ],
   "source": [
    "goals_but_low_xG = stats_per_game[(stats_per_game['xG'] < 1) & (stats_per_game['result'] == \"w\")]\n",
    "goals_but_low_xG.xG.plot(kind='hist', bins=10)\n",
    "plt.ylabel('Frequency')\n",
    "plt.xlabel('Number of Expected Goals')\n",
    "plt.title(\"Expected Goals Distribution for Clubs that create few shots but win the matches\");"
   ]
  },
  {
   "cell_type": "code",
   "execution_count": 20,
   "metadata": {},
   "outputs": [
    {
     "data": {
      "text/html": [
       "<div>\n",
       "<style scoped>\n",
       "    .dataframe tbody tr th:only-of-type {\n",
       "        vertical-align: middle;\n",
       "    }\n",
       "\n",
       "    .dataframe tbody tr th {\n",
       "        vertical-align: top;\n",
       "    }\n",
       "\n",
       "    .dataframe thead th {\n",
       "        text-align: right;\n",
       "    }\n",
       "</style>\n",
       "<table border=\"1\" class=\"dataframe\">\n",
       "  <thead>\n",
       "    <tr style=\"text-align: right;\">\n",
       "      <th></th>\n",
       "      <th>xG</th>\n",
       "      <th>npxG</th>\n",
       "    </tr>\n",
       "  </thead>\n",
       "  <tbody>\n",
       "    <tr>\n",
       "      <th>7</th>\n",
       "      <td>2.49826</td>\n",
       "      <td>1.740490</td>\n",
       "    </tr>\n",
       "    <tr>\n",
       "      <th>9</th>\n",
       "      <td>2.64367</td>\n",
       "      <td>1.886050</td>\n",
       "    </tr>\n",
       "    <tr>\n",
       "      <th>20</th>\n",
       "      <td>4.17851</td>\n",
       "      <td>3.420730</td>\n",
       "    </tr>\n",
       "    <tr>\n",
       "      <th>21</th>\n",
       "      <td>3.12815</td>\n",
       "      <td>2.370380</td>\n",
       "    </tr>\n",
       "    <tr>\n",
       "      <th>23</th>\n",
       "      <td>1.33559</td>\n",
       "      <td>0.577811</td>\n",
       "    </tr>\n",
       "    <tr>\n",
       "      <th>...</th>\n",
       "      <td>...</td>\n",
       "      <td>...</td>\n",
       "    </tr>\n",
       "    <tr>\n",
       "      <th>24571</th>\n",
       "      <td>1.75314</td>\n",
       "      <td>0.991880</td>\n",
       "    </tr>\n",
       "    <tr>\n",
       "      <th>24572</th>\n",
       "      <td>2.04843</td>\n",
       "      <td>1.287140</td>\n",
       "    </tr>\n",
       "    <tr>\n",
       "      <th>24573</th>\n",
       "      <td>3.02321</td>\n",
       "      <td>2.261910</td>\n",
       "    </tr>\n",
       "    <tr>\n",
       "      <th>24576</th>\n",
       "      <td>1.69932</td>\n",
       "      <td>0.938022</td>\n",
       "    </tr>\n",
       "    <tr>\n",
       "      <th>24579</th>\n",
       "      <td>1.93484</td>\n",
       "      <td>1.173540</td>\n",
       "    </tr>\n",
       "  </tbody>\n",
       "</table>\n",
       "<p>3515 rows × 2 columns</p>\n",
       "</div>"
      ],
      "text/plain": [
       "            xG      npxG\n",
       "7      2.49826  1.740490\n",
       "9      2.64367  1.886050\n",
       "20     4.17851  3.420730\n",
       "21     3.12815  2.370380\n",
       "23     1.33559  0.577811\n",
       "...        ...       ...\n",
       "24571  1.75314  0.991880\n",
       "24572  2.04843  1.287140\n",
       "24573  3.02321  2.261910\n",
       "24576  1.69932  0.938022\n",
       "24579  1.93484  1.173540\n",
       "\n",
       "[3515 rows x 2 columns]"
      ]
     },
     "execution_count": 20,
     "metadata": {},
     "output_type": "execute_result"
    }
   ],
   "source": [
    "goals_with_penalties = stats_per_game[(stats_per_game['xG'] > stats_per_game['npxG'])]\n",
    "goals_with_penalties[['xG', 'npxG']]"
   ]
  },
  {
   "cell_type": "markdown",
   "metadata": {},
   "source": [
    "Now this chart is interesting, but there are some notes to point out. I have created a new column called **npxG**: the expected goals **without penalties and own goals from the opposition**. npxG_diff is the difference between expected goals with and without penalties and own goals."
   ]
  },
  {
   "cell_type": "code",
   "execution_count": 21,
   "metadata": {},
   "outputs": [
    {
     "data": {
      "text/html": [
       "<div>\n",
       "<style scoped>\n",
       "    .dataframe tbody tr th:only-of-type {\n",
       "        vertical-align: middle;\n",
       "    }\n",
       "\n",
       "    .dataframe tbody tr th {\n",
       "        vertical-align: top;\n",
       "    }\n",
       "\n",
       "    .dataframe thead th {\n",
       "        text-align: right;\n",
       "    }\n",
       "</style>\n",
       "<table border=\"1\" class=\"dataframe\">\n",
       "  <thead>\n",
       "    <tr style=\"text-align: right;\">\n",
       "      <th></th>\n",
       "      <th>team</th>\n",
       "      <th>scored</th>\n",
       "      <th>xG</th>\n",
       "      <th>npxG</th>\n",
       "      <th>npxG_diff</th>\n",
       "    </tr>\n",
       "  </thead>\n",
       "  <tbody>\n",
       "    <tr>\n",
       "      <th>7</th>\n",
       "      <td>Bayern Munich</td>\n",
       "      <td>6</td>\n",
       "      <td>2.49826</td>\n",
       "      <td>1.740490</td>\n",
       "      <td>0.757770</td>\n",
       "    </tr>\n",
       "    <tr>\n",
       "      <th>9</th>\n",
       "      <td>Bayern Munich</td>\n",
       "      <td>2</td>\n",
       "      <td>2.64367</td>\n",
       "      <td>1.886050</td>\n",
       "      <td>0.757620</td>\n",
       "    </tr>\n",
       "    <tr>\n",
       "      <th>20</th>\n",
       "      <td>Bayern Munich</td>\n",
       "      <td>8</td>\n",
       "      <td>4.17851</td>\n",
       "      <td>3.420730</td>\n",
       "      <td>0.757780</td>\n",
       "    </tr>\n",
       "    <tr>\n",
       "      <th>21</th>\n",
       "      <td>Bayern Munich</td>\n",
       "      <td>6</td>\n",
       "      <td>3.12815</td>\n",
       "      <td>2.370380</td>\n",
       "      <td>0.757770</td>\n",
       "    </tr>\n",
       "    <tr>\n",
       "      <th>23</th>\n",
       "      <td>Bayern Munich</td>\n",
       "      <td>3</td>\n",
       "      <td>1.33559</td>\n",
       "      <td>0.577811</td>\n",
       "      <td>0.757779</td>\n",
       "    </tr>\n",
       "    <tr>\n",
       "      <th>...</th>\n",
       "      <td>...</td>\n",
       "      <td>...</td>\n",
       "      <td>...</td>\n",
       "      <td>...</td>\n",
       "      <td>...</td>\n",
       "    </tr>\n",
       "    <tr>\n",
       "      <th>24571</th>\n",
       "      <td>Lecce</td>\n",
       "      <td>1</td>\n",
       "      <td>1.75314</td>\n",
       "      <td>0.991880</td>\n",
       "      <td>0.761260</td>\n",
       "    </tr>\n",
       "    <tr>\n",
       "      <th>24572</th>\n",
       "      <td>Lecce</td>\n",
       "      <td>2</td>\n",
       "      <td>2.04843</td>\n",
       "      <td>1.287140</td>\n",
       "      <td>0.761290</td>\n",
       "    </tr>\n",
       "    <tr>\n",
       "      <th>24573</th>\n",
       "      <td>Lecce</td>\n",
       "      <td>2</td>\n",
       "      <td>3.02321</td>\n",
       "      <td>2.261910</td>\n",
       "      <td>0.761300</td>\n",
       "    </tr>\n",
       "    <tr>\n",
       "      <th>24576</th>\n",
       "      <td>Lecce</td>\n",
       "      <td>1</td>\n",
       "      <td>1.69932</td>\n",
       "      <td>0.938022</td>\n",
       "      <td>0.761298</td>\n",
       "    </tr>\n",
       "    <tr>\n",
       "      <th>24579</th>\n",
       "      <td>Lecce</td>\n",
       "      <td>2</td>\n",
       "      <td>1.93484</td>\n",
       "      <td>1.173540</td>\n",
       "      <td>0.761300</td>\n",
       "    </tr>\n",
       "  </tbody>\n",
       "</table>\n",
       "<p>3515 rows × 5 columns</p>\n",
       "</div>"
      ],
      "text/plain": [
       "                team  scored       xG      npxG  npxG_diff\n",
       "7      Bayern Munich       6  2.49826  1.740490   0.757770\n",
       "9      Bayern Munich       2  2.64367  1.886050   0.757620\n",
       "20     Bayern Munich       8  4.17851  3.420730   0.757780\n",
       "21     Bayern Munich       6  3.12815  2.370380   0.757770\n",
       "23     Bayern Munich       3  1.33559  0.577811   0.757779\n",
       "...              ...     ...      ...       ...        ...\n",
       "24571          Lecce       1  1.75314  0.991880   0.761260\n",
       "24572          Lecce       2  2.04843  1.287140   0.761290\n",
       "24573          Lecce       2  3.02321  2.261910   0.761300\n",
       "24576          Lecce       1  1.69932  0.938022   0.761298\n",
       "24579          Lecce       2  1.93484  1.173540   0.761300\n",
       "\n",
       "[3515 rows x 5 columns]"
      ]
     },
     "execution_count": 21,
     "metadata": {},
     "output_type": "execute_result"
    }
   ],
   "source": [
    "stats_per_game['npxG_diff'] = stats_per_game['xG'] - stats_per_game['npxG']\n",
    "goals_with_penalties = stats_per_game[(stats_per_game['xG'] > stats_per_game['npxG'])]\n",
    "goals_with_penalties[['team', 'scored', 'xG', 'npxG', 'npxG_diff']]"
   ]
  },
  {
   "cell_type": "markdown",
   "metadata": {},
   "source": [
    "If we notice, the npxG_diff for every club that has a higher xG than npxG is 0.75 or higher. Why is that?\n",
    "\n",
    "Because all penalties are the same: they are 12 yards from the goal, and every player taking the penalties take it from the same position. 0.75 is the expected goal for a penalty, which means there is a 75% of successfully scoring from the spot."
   ]
  },
  {
   "cell_type": "markdown",
   "metadata": {},
   "source": [
    "In the football rulebook, a win is worth 3 points, a draw is 1 point, and a loss is 0 points. However, with the expected points statistics, we have a more realistic look at how many points the club is expected to earn based on the quality of their chances and how those chances would have affected the match in the long run. The chart shows a distribution from 0 expected points to 3 (the most points a club can earn for a win)"
   ]
  },
  {
   "cell_type": "code",
   "execution_count": 22,
   "metadata": {},
   "outputs": [
    {
     "data": {
      "image/png": "[encoded data removed]",
      "text/plain": [
       "<Figure size 432x288 with 1 Axes>"
      ]
     },
     "metadata": {
      "needs_background": "light"
     },
     "output_type": "display_data"
    }
   ],
   "source": [
    "stats_per_game.xpts.plot(kind='hist', bins=6)\n",
    "plt.ylabel('Frequency')\n",
    "plt.xlabel('Number of Expected Points')\n",
    "plt.title('Expected Points Distribution');"
   ]
  },
  {
   "cell_type": "markdown",
   "metadata": {},
   "source": [
    "This list below shows how some clubs are expected to earn much fewer points despite winning the match. **xpts_diff** is the difference between actual points earned and expected points."
   ]
  },
  {
   "cell_type": "code",
   "execution_count": 23,
   "metadata": {},
   "outputs": [
    {
     "data": {
      "text/html": [
       "<div>\n",
       "<style scoped>\n",
       "    .dataframe tbody tr th:only-of-type {\n",
       "        vertical-align: middle;\n",
       "    }\n",
       "\n",
       "    .dataframe tbody tr th {\n",
       "        vertical-align: top;\n",
       "    }\n",
       "\n",
       "    .dataframe thead th {\n",
       "        text-align: right;\n",
       "    }\n",
       "</style>\n",
       "<table border=\"1\" class=\"dataframe\">\n",
       "  <thead>\n",
       "    <tr style=\"text-align: right;\">\n",
       "      <th></th>\n",
       "      <th>team</th>\n",
       "      <th>scored</th>\n",
       "      <th>missed</th>\n",
       "      <th>xG</th>\n",
       "      <th>xGA</th>\n",
       "      <th>xpts</th>\n",
       "      <th>xpts_diff</th>\n",
       "    </tr>\n",
       "  </thead>\n",
       "  <tbody>\n",
       "    <tr>\n",
       "      <th>53</th>\n",
       "      <td>Hamburger SV</td>\n",
       "      <td>2</td>\n",
       "      <td>1</td>\n",
       "      <td>0.674771</td>\n",
       "      <td>2.24545</td>\n",
       "      <td>0.3214</td>\n",
       "      <td>-2.6786</td>\n",
       "    </tr>\n",
       "    <tr>\n",
       "      <th>93</th>\n",
       "      <td>Bayer Leverkusen</td>\n",
       "      <td>1</td>\n",
       "      <td>0</td>\n",
       "      <td>1.317400</td>\n",
       "      <td>1.79663</td>\n",
       "      <td>0.9871</td>\n",
       "      <td>-2.0129</td>\n",
       "    </tr>\n",
       "    <tr>\n",
       "      <th>95</th>\n",
       "      <td>Bayer Leverkusen</td>\n",
       "      <td>3</td>\n",
       "      <td>2</td>\n",
       "      <td>0.970257</td>\n",
       "      <td>2.21349</td>\n",
       "      <td>0.4237</td>\n",
       "      <td>-2.5763</td>\n",
       "    </tr>\n",
       "    <tr>\n",
       "      <th>152</th>\n",
       "      <td>Augsburg</td>\n",
       "      <td>2</td>\n",
       "      <td>1</td>\n",
       "      <td>1.655610</td>\n",
       "      <td>2.17588</td>\n",
       "      <td>0.9716</td>\n",
       "      <td>-2.0284</td>\n",
       "    </tr>\n",
       "    <tr>\n",
       "      <th>164</th>\n",
       "      <td>Augsburg</td>\n",
       "      <td>2</td>\n",
       "      <td>1</td>\n",
       "      <td>1.144010</td>\n",
       "      <td>2.41152</td>\n",
       "      <td>0.4976</td>\n",
       "      <td>-2.5024</td>\n",
       "    </tr>\n",
       "    <tr>\n",
       "      <th>...</th>\n",
       "      <td>...</td>\n",
       "      <td>...</td>\n",
       "      <td>...</td>\n",
       "      <td>...</td>\n",
       "      <td>...</td>\n",
       "      <td>...</td>\n",
       "      <td>...</td>\n",
       "    </tr>\n",
       "    <tr>\n",
       "      <th>24450</th>\n",
       "      <td>SPAL 2013</td>\n",
       "      <td>2</td>\n",
       "      <td>1</td>\n",
       "      <td>1.210910</td>\n",
       "      <td>2.45221</td>\n",
       "      <td>0.5803</td>\n",
       "      <td>-2.4197</td>\n",
       "    </tr>\n",
       "    <tr>\n",
       "      <th>24482</th>\n",
       "      <td>Parma Calcio 1913</td>\n",
       "      <td>1</td>\n",
       "      <td>0</td>\n",
       "      <td>0.602606</td>\n",
       "      <td>1.19231</td>\n",
       "      <td>0.8429</td>\n",
       "      <td>-2.1571</td>\n",
       "    </tr>\n",
       "    <tr>\n",
       "      <th>24483</th>\n",
       "      <td>Parma Calcio 1913</td>\n",
       "      <td>2</td>\n",
       "      <td>1</td>\n",
       "      <td>1.292770</td>\n",
       "      <td>1.88263</td>\n",
       "      <td>0.9867</td>\n",
       "      <td>-2.0133</td>\n",
       "    </tr>\n",
       "    <tr>\n",
       "      <th>24491</th>\n",
       "      <td>Parma Calcio 1913</td>\n",
       "      <td>1</td>\n",
       "      <td>0</td>\n",
       "      <td>0.819298</td>\n",
       "      <td>1.39228</td>\n",
       "      <td>0.8363</td>\n",
       "      <td>-2.1637</td>\n",
       "    </tr>\n",
       "    <tr>\n",
       "      <th>24565</th>\n",
       "      <td>Lecce</td>\n",
       "      <td>3</td>\n",
       "      <td>2</td>\n",
       "      <td>1.833340</td>\n",
       "      <td>3.48129</td>\n",
       "      <td>0.4339</td>\n",
       "      <td>-2.5661</td>\n",
       "    </tr>\n",
       "  </tbody>\n",
       "</table>\n",
       "<p>973 rows × 7 columns</p>\n",
       "</div>"
      ],
      "text/plain": [
       "                    team  scored  missed        xG      xGA    xpts  xpts_diff\n",
       "53          Hamburger SV       2       1  0.674771  2.24545  0.3214    -2.6786\n",
       "93      Bayer Leverkusen       1       0  1.317400  1.79663  0.9871    -2.0129\n",
       "95      Bayer Leverkusen       3       2  0.970257  2.21349  0.4237    -2.5763\n",
       "152             Augsburg       2       1  1.655610  2.17588  0.9716    -2.0284\n",
       "164             Augsburg       2       1  1.144010  2.41152  0.4976    -2.5024\n",
       "...                  ...     ...     ...       ...      ...     ...        ...\n",
       "24450          SPAL 2013       2       1  1.210910  2.45221  0.5803    -2.4197\n",
       "24482  Parma Calcio 1913       1       0  0.602606  1.19231  0.8429    -2.1571\n",
       "24483  Parma Calcio 1913       2       1  1.292770  1.88263  0.9867    -2.0133\n",
       "24491  Parma Calcio 1913       1       0  0.819298  1.39228  0.8363    -2.1637\n",
       "24565              Lecce       3       2  1.833340  3.48129  0.4339    -2.5661\n",
       "\n",
       "[973 rows x 7 columns]"
      ]
     },
     "execution_count": 23,
     "metadata": {},
     "output_type": "execute_result"
    }
   ],
   "source": [
    "win_but_low_xpts = stats_per_game[(stats_per_game['result'] == 'w' ) & (stats_per_game['xpts'] < 1)]\n",
    "win_but_low_xpts[['team', 'scored', 'missed', 'xG', 'xGA','xpts', 'xpts_diff']]"
   ]
  },
  {
   "cell_type": "markdown",
   "metadata": {},
   "source": [
    "There are several factors that contribute to this unusual outcome. It could be that the winning team is expected to score fewer goals than they actually scored, meaning that they take their chances and score. It could also mean that they are expected to concede more goals (xGA) than they actually missed in the match, which has a negative affect on the expected points earned for that game."
   ]
  }
 ],
 "metadata": {
  "kernelspec": {
   "display_name": "Python 3",
   "language": "python",
   "name": "python3"
  },
  "language_info": {
   "codemirror_mode": {
    "name": "ipython",
    "version": 3
   },
   "file_extension": ".py",
   "mimetype": "text/x-python",
   "name": "python",
   "nbconvert_exporter": "python",
   "pygments_lexer": "ipython3",
   "version": "3.7.6"
  }
 },
 "nbformat": 4,
 "nbformat_minor": 2
}
