{
 "cells": [
  {
   "cell_type": "markdown",
   "metadata": {},
   "source": [
    "# Football Expected Goals Analysis Report\n",
    "\n",
    "This project concerns football and statistics, specifically expected goals. This is a new concept for someone who watches the sport for more than 10 years. I decided to take a closer at how this statistic impact each club's performance per season based on the number of chances they create and number of goals they actually score.\n",
    "\n",
    "In a low-scoring sport such as football, the final score alone is not a true reflection of how the game unfolds. This is why sports statisticians turn to model like expected goals to measure the quality of chances created and conceded in each game. The following report covers the entire season for 6 of European's most elite football leagues: England, Italy, Spain, Germany, France, and Russia"
   ]
  },
  {
   "cell_type": "markdown",
   "metadata": {},
   "source": [
    "## Hypotheses \n",
    "\n",
    "1. Some leagues will not complete a part of this season due to the ongoing pandemic\n",
    "\n",
    "2. The team that has a higher expected goal number does not necessary score more goals, given that football is a low-scoring sport.\n",
    "\n",
    "3. The team that wins a game will have a higher expected points tally."
   ]
  },
  {
   "cell_type": "markdown",
   "metadata": {},
   "source": [
    "# Import Library\n",
    "\n",
    "First of all, as usual, let's import the necessary libraries for this project"
   ]
  },
  {
   "cell_type": "code",
   "execution_count": 2,
   "metadata": {},
   "outputs": [],
   "source": [
    "import pandas as pd\n",
    "import matplotlib.pyplot as plt"
   ]
  },
  {
   "cell_type": "markdown",
   "metadata": {},
   "source": [
    "# Import Data\n",
    "\n",
    "Read in the data from the Data directory\n",
    "\n",
    "There's only one file in it: **understat_per_game.csv**: League results from the top 6 European leagues, with the addition of expected goals and expected points statistics"
   ]
  },
  {
   "cell_type": "code",
   "execution_count": 3,
   "metadata": {},
   "outputs": [
    {
     "name": "stdout",
     "output_type": "stream",
     "text": [
      "understat_per_game.csv\r\n"
     ]
    }
   ],
   "source": [
    "!ls data"
   ]
  },
  {
   "cell_type": "markdown",
   "metadata": {},
   "source": [
    "Let's create a variable named **stats_per_game** and read in this file"
   ]
  },
  {
   "cell_type": "code",
   "execution_count": 4,
   "metadata": {},
   "outputs": [],
   "source": [
    "stats_per_game = pd.read_csv('data/understat_per_game.csv')"
   ]
  },
  {
   "cell_type": "markdown",
   "metadata": {},
   "source": [
    "Let's take a quick look into the head of these dataframes:"
   ]
  },
  {
   "cell_type": "code",
   "execution_count": 5,
   "metadata": {},
   "outputs": [
    {
     "data": {
      "text/html": [
       "<div>\n",
       "<style scoped>\n",
       "    .dataframe tbody tr th:only-of-type {\n",
       "        vertical-align: middle;\n",
       "    }\n",
       "\n",
       "    .dataframe tbody tr th {\n",
       "        vertical-align: top;\n",
       "    }\n",
       "\n",
       "    .dataframe thead th {\n",
       "        text-align: right;\n",
       "    }\n",
       "</style>\n",
       "<table border=\"1\" class=\"dataframe\">\n",
       "  <thead>\n",
       "    <tr style=\"text-align: right;\">\n",
       "      <th></th>\n",
       "      <th>league</th>\n",
       "      <th>year</th>\n",
       "      <th>date</th>\n",
       "      <th>team</th>\n",
       "      <th>h_a</th>\n",
       "      <th>scored</th>\n",
       "      <th>missed</th>\n",
       "      <th>result</th>\n",
       "      <th>pts</th>\n",
       "      <th>xG</th>\n",
       "      <th>xGA</th>\n",
       "      <th>npxG</th>\n",
       "      <th>npxGA</th>\n",
       "      <th>xpts</th>\n",
       "      <th>npxGD</th>\n",
       "      <th>xG_diff</th>\n",
       "      <th>xGA_diff</th>\n",
       "      <th>xpts_diff</th>\n",
       "    </tr>\n",
       "  </thead>\n",
       "  <tbody>\n",
       "    <tr>\n",
       "      <th>0</th>\n",
       "      <td>Bundesliga</td>\n",
       "      <td>2014</td>\n",
       "      <td>22/08/2014 19:30</td>\n",
       "      <td>Bayern Munich</td>\n",
       "      <td>h</td>\n",
       "      <td>2</td>\n",
       "      <td>1</td>\n",
       "      <td>w</td>\n",
       "      <td>3</td>\n",
       "      <td>2.57012</td>\n",
       "      <td>1.198420</td>\n",
       "      <td>2.57012</td>\n",
       "      <td>1.198420</td>\n",
       "      <td>2.3486</td>\n",
       "      <td>1.371700</td>\n",
       "      <td>0.57012</td>\n",
       "      <td>0.198420</td>\n",
       "      <td>-0.6514</td>\n",
       "    </tr>\n",
       "    <tr>\n",
       "      <th>1</th>\n",
       "      <td>Bundesliga</td>\n",
       "      <td>2014</td>\n",
       "      <td>30/08/2014 17:30</td>\n",
       "      <td>Bayern Munich</td>\n",
       "      <td>a</td>\n",
       "      <td>1</td>\n",
       "      <td>1</td>\n",
       "      <td>d</td>\n",
       "      <td>1</td>\n",
       "      <td>1.50328</td>\n",
       "      <td>1.307950</td>\n",
       "      <td>1.50328</td>\n",
       "      <td>1.307950</td>\n",
       "      <td>1.5143</td>\n",
       "      <td>0.195330</td>\n",
       "      <td>0.50328</td>\n",
       "      <td>0.307950</td>\n",
       "      <td>0.5143</td>\n",
       "    </tr>\n",
       "    <tr>\n",
       "      <th>2</th>\n",
       "      <td>Bundesliga</td>\n",
       "      <td>2014</td>\n",
       "      <td>13/09/2014 14:30</td>\n",
       "      <td>Bayern Munich</td>\n",
       "      <td>h</td>\n",
       "      <td>2</td>\n",
       "      <td>0</td>\n",
       "      <td>w</td>\n",
       "      <td>3</td>\n",
       "      <td>1.22987</td>\n",
       "      <td>0.310166</td>\n",
       "      <td>1.22987</td>\n",
       "      <td>0.310166</td>\n",
       "      <td>2.1588</td>\n",
       "      <td>0.919704</td>\n",
       "      <td>-0.77013</td>\n",
       "      <td>0.310166</td>\n",
       "      <td>-0.8412</td>\n",
       "    </tr>\n",
       "    <tr>\n",
       "      <th>3</th>\n",
       "      <td>Bundesliga</td>\n",
       "      <td>2014</td>\n",
       "      <td>20/09/2014 14:30</td>\n",
       "      <td>Bayern Munich</td>\n",
       "      <td>a</td>\n",
       "      <td>0</td>\n",
       "      <td>0</td>\n",
       "      <td>d</td>\n",
       "      <td>1</td>\n",
       "      <td>1.03519</td>\n",
       "      <td>0.203118</td>\n",
       "      <td>1.03519</td>\n",
       "      <td>0.203118</td>\n",
       "      <td>2.1367</td>\n",
       "      <td>0.832072</td>\n",
       "      <td>1.03519</td>\n",
       "      <td>0.203118</td>\n",
       "      <td>1.1367</td>\n",
       "    </tr>\n",
       "    <tr>\n",
       "      <th>4</th>\n",
       "      <td>Bundesliga</td>\n",
       "      <td>2014</td>\n",
       "      <td>23/09/2014 19:00</td>\n",
       "      <td>Bayern Munich</td>\n",
       "      <td>h</td>\n",
       "      <td>4</td>\n",
       "      <td>0</td>\n",
       "      <td>w</td>\n",
       "      <td>3</td>\n",
       "      <td>3.48286</td>\n",
       "      <td>0.402844</td>\n",
       "      <td>3.48286</td>\n",
       "      <td>0.402844</td>\n",
       "      <td>2.9287</td>\n",
       "      <td>3.080016</td>\n",
       "      <td>-0.51714</td>\n",
       "      <td>0.402844</td>\n",
       "      <td>-0.0713</td>\n",
       "    </tr>\n",
       "  </tbody>\n",
       "</table>\n",
       "</div>"
      ],
      "text/plain": [
       "       league  year              date           team h_a  scored  missed  \\\n",
       "0  Bundesliga  2014  22/08/2014 19:30  Bayern Munich   h       2       1   \n",
       "1  Bundesliga  2014  30/08/2014 17:30  Bayern Munich   a       1       1   \n",
       "2  Bundesliga  2014  13/09/2014 14:30  Bayern Munich   h       2       0   \n",
       "3  Bundesliga  2014  20/09/2014 14:30  Bayern Munich   a       0       0   \n",
       "4  Bundesliga  2014  23/09/2014 19:00  Bayern Munich   h       4       0   \n",
       "\n",
       "  result  pts       xG       xGA     npxG     npxGA    xpts     npxGD  \\\n",
       "0      w    3  2.57012  1.198420  2.57012  1.198420  2.3486  1.371700   \n",
       "1      d    1  1.50328  1.307950  1.50328  1.307950  1.5143  0.195330   \n",
       "2      w    3  1.22987  0.310166  1.22987  0.310166  2.1588  0.919704   \n",
       "3      d    1  1.03519  0.203118  1.03519  0.203118  2.1367  0.832072   \n",
       "4      w    3  3.48286  0.402844  3.48286  0.402844  2.9287  3.080016   \n",
       "\n",
       "   xG_diff  xGA_diff  xpts_diff  \n",
       "0  0.57012  0.198420    -0.6514  \n",
       "1  0.50328  0.307950     0.5143  \n",
       "2 -0.77013  0.310166    -0.8412  \n",
       "3  1.03519  0.203118     1.1367  \n",
       "4 -0.51714  0.402844    -0.0713  "
      ]
     },
     "execution_count": 5,
     "metadata": {},
     "output_type": "execute_result"
    }
   ],
   "source": [
    "stats_per_game.head()"
   ]
  },
  {
   "cell_type": "markdown",
   "metadata": {},
   "source": [
    "When we check the shape of the dataframe, we see there are more than **24000** rows and 18 columns. That might sounds a lot for a database on football from 2014 for only 6 European leagues. But in reality, this dataframe consists of the results from each club for each individual game throughout all 6 seasons."
   ]
  },
  {
   "cell_type": "code",
   "execution_count": 6,
   "metadata": {},
   "outputs": [
    {
     "data": {
      "text/plain": [
       "(24580, 18)"
      ]
     },
     "execution_count": 6,
     "metadata": {},
     "output_type": "execute_result"
    }
   ],
   "source": [
    "stats_per_game.shape"
   ]
  },
  {
   "cell_type": "markdown",
   "metadata": {},
   "source": [
    "# Check for missing data\n",
    "\n",
    "Before we can do data analysis, let's check if there's any missing data in the dataframe."
   ]
  },
  {
   "cell_type": "code",
   "execution_count": 7,
   "metadata": {},
   "outputs": [
    {
     "data": {
      "text/html": [
       "<div>\n",
       "<style scoped>\n",
       "    .dataframe tbody tr th:only-of-type {\n",
       "        vertical-align: middle;\n",
       "    }\n",
       "\n",
       "    .dataframe tbody tr th {\n",
       "        vertical-align: top;\n",
       "    }\n",
       "\n",
       "    .dataframe thead th {\n",
       "        text-align: right;\n",
       "    }\n",
       "</style>\n",
       "<table border=\"1\" class=\"dataframe\">\n",
       "  <thead>\n",
       "    <tr style=\"text-align: right;\">\n",
       "      <th></th>\n",
       "      <th>league</th>\n",
       "      <th>year</th>\n",
       "      <th>date</th>\n",
       "      <th>team</th>\n",
       "      <th>h_a</th>\n",
       "      <th>scored</th>\n",
       "      <th>missed</th>\n",
       "      <th>result</th>\n",
       "      <th>pts</th>\n",
       "      <th>xG</th>\n",
       "      <th>xGA</th>\n",
       "      <th>npxG</th>\n",
       "      <th>npxGA</th>\n",
       "      <th>xpts</th>\n",
       "      <th>npxGD</th>\n",
       "      <th>xG_diff</th>\n",
       "      <th>xGA_diff</th>\n",
       "      <th>xpts_diff</th>\n",
       "    </tr>\n",
       "  </thead>\n",
       "  <tbody>\n",
       "    <tr>\n",
       "      <th>0</th>\n",
       "      <td>False</td>\n",
       "      <td>False</td>\n",
       "      <td>False</td>\n",
       "      <td>False</td>\n",
       "      <td>False</td>\n",
       "      <td>False</td>\n",
       "      <td>False</td>\n",
       "      <td>False</td>\n",
       "      <td>False</td>\n",
       "      <td>False</td>\n",
       "      <td>False</td>\n",
       "      <td>False</td>\n",
       "      <td>False</td>\n",
       "      <td>False</td>\n",
       "      <td>False</td>\n",
       "      <td>False</td>\n",
       "      <td>False</td>\n",
       "      <td>False</td>\n",
       "    </tr>\n",
       "    <tr>\n",
       "      <th>1</th>\n",
       "      <td>False</td>\n",
       "      <td>False</td>\n",
       "      <td>False</td>\n",
       "      <td>False</td>\n",
       "      <td>False</td>\n",
       "      <td>False</td>\n",
       "      <td>False</td>\n",
       "      <td>False</td>\n",
       "      <td>False</td>\n",
       "      <td>False</td>\n",
       "      <td>False</td>\n",
       "      <td>False</td>\n",
       "      <td>False</td>\n",
       "      <td>False</td>\n",
       "      <td>False</td>\n",
       "      <td>False</td>\n",
       "      <td>False</td>\n",
       "      <td>False</td>\n",
       "    </tr>\n",
       "    <tr>\n",
       "      <th>2</th>\n",
       "      <td>False</td>\n",
       "      <td>False</td>\n",
       "      <td>False</td>\n",
       "      <td>False</td>\n",
       "      <td>False</td>\n",
       "      <td>False</td>\n",
       "      <td>False</td>\n",
       "      <td>False</td>\n",
       "      <td>False</td>\n",
       "      <td>False</td>\n",
       "      <td>False</td>\n",
       "      <td>False</td>\n",
       "      <td>False</td>\n",
       "      <td>False</td>\n",
       "      <td>False</td>\n",
       "      <td>False</td>\n",
       "      <td>False</td>\n",
       "      <td>False</td>\n",
       "    </tr>\n",
       "    <tr>\n",
       "      <th>3</th>\n",
       "      <td>False</td>\n",
       "      <td>False</td>\n",
       "      <td>False</td>\n",
       "      <td>False</td>\n",
       "      <td>False</td>\n",
       "      <td>False</td>\n",
       "      <td>False</td>\n",
       "      <td>False</td>\n",
       "      <td>False</td>\n",
       "      <td>False</td>\n",
       "      <td>False</td>\n",
       "      <td>False</td>\n",
       "      <td>False</td>\n",
       "      <td>False</td>\n",
       "      <td>False</td>\n",
       "      <td>False</td>\n",
       "      <td>False</td>\n",
       "      <td>False</td>\n",
       "    </tr>\n",
       "    <tr>\n",
       "      <th>4</th>\n",
       "      <td>False</td>\n",
       "      <td>False</td>\n",
       "      <td>False</td>\n",
       "      <td>False</td>\n",
       "      <td>False</td>\n",
       "      <td>False</td>\n",
       "      <td>False</td>\n",
       "      <td>False</td>\n",
       "      <td>False</td>\n",
       "      <td>False</td>\n",
       "      <td>False</td>\n",
       "      <td>False</td>\n",
       "      <td>False</td>\n",
       "      <td>False</td>\n",
       "      <td>False</td>\n",
       "      <td>False</td>\n",
       "      <td>False</td>\n",
       "      <td>False</td>\n",
       "    </tr>\n",
       "  </tbody>\n",
       "</table>\n",
       "</div>"
      ],
      "text/plain": [
       "   league   year   date   team    h_a  scored  missed  result    pts     xG  \\\n",
       "0   False  False  False  False  False   False   False   False  False  False   \n",
       "1   False  False  False  False  False   False   False   False  False  False   \n",
       "2   False  False  False  False  False   False   False   False  False  False   \n",
       "3   False  False  False  False  False   False   False   False  False  False   \n",
       "4   False  False  False  False  False   False   False   False  False  False   \n",
       "\n",
       "     xGA   npxG  npxGA   xpts  npxGD  xG_diff  xGA_diff  xpts_diff  \n",
       "0  False  False  False  False  False    False     False      False  \n",
       "1  False  False  False  False  False    False     False      False  \n",
       "2  False  False  False  False  False    False     False      False  \n",
       "3  False  False  False  False  False    False     False      False  \n",
       "4  False  False  False  False  False    False     False      False  "
      ]
     },
     "execution_count": 7,
     "metadata": {},
     "output_type": "execute_result"
    }
   ],
   "source": [
    "stats_per_game.isnull().head()"
   ]
  },
  {
   "cell_type": "markdown",
   "metadata": {},
   "source": [
    "Everything is **False** here, so we're good to go ahead with the dataframe!"
   ]
  },
  {
   "cell_type": "markdown",
   "metadata": {},
   "source": [
    "# Time for Analyzing the Data\n",
    "\n",
    "First, let's just check to make sure there are only 6 leagues in this dataframe"
   ]
  },
  {
   "cell_type": "code",
   "execution_count": 8,
   "metadata": {},
   "outputs": [
    {
     "data": {
      "text/plain": [
       "0    Bundesliga\n",
       "1           EPL\n",
       "2       La_liga\n",
       "3       Ligue_1\n",
       "4          RFPL\n",
       "5       Serie_A\n",
       "dtype: object"
      ]
     },
     "execution_count": 8,
     "metadata": {},
     "output_type": "execute_result"
    }
   ],
   "source": [
    "pd.Series(stats_per_game['league'].unique()).sort_values(ascending=True)"
   ]
  },
  {
   "cell_type": "markdown",
   "metadata": {},
   "source": [
    "Great! Now we want to see how many times each league is represented in the dataframe"
   ]
  },
  {
   "cell_type": "code",
   "execution_count": 9,
   "metadata": {},
   "outputs": [
    {
     "data": {
      "text/plain": [
       "La_liga       4560\n",
       "EPL           4560\n",
       "Serie_A       4550\n",
       "Ligue_1       4358\n",
       "Bundesliga    3672\n",
       "RFPL          2880\n",
       "Name: league, dtype: int64"
      ]
     },
     "execution_count": 9,
     "metadata": {},
     "output_type": "execute_result"
    }
   ],
   "source": [
    "stats_per_game['league'].dropna().value_counts(dropna=False)"
   ]
  },
  {
   "cell_type": "markdown",
   "metadata": {},
   "source": [
    "If we look at the frequency of how many times a particular league appears in the database, we notice that EPL, La Liga, and Serie A has similar numbers, while the remaining leagues appear less. But why?\n",
    "\n",
    "The number of games in any football league depends on the **number of participating clubs**. For example, there are 20 clubs participating in EPL, La Liga, Serie A, and Ligue 1 (18 in Bundesliga and 16 for Russian League) , and that means a total of **380 games** per season. **Since we are showing the results for each club individually for each game**, we multiply by 2 and get 760 rows of database. Finally, we multiply 760 by 6 (number of years in this data) and get the number above.\n",
    "\n",
    "**Note 1**: Since the Ligue 1 2019-20 season was cancelled after playing 28 rounds due to the Covid-19 pandemic, there are only 4358 rows of data for this league, including only partial data for the 2019-20 season\n",
    "\n",
    "**Note 2**: For Serie A, there were 5 incompleted games that were not included in the database when I download the database. So there are only 4550 rows of data for this league"
   ]
  },
  {
   "cell_type": "markdown",
   "metadata": {},
   "source": [
    "-------------------------------------------------------------------------------------------------------------------------------"
   ]
  },
  {
   "cell_type": "markdown",
   "metadata": {},
   "source": [
    "Let's look at the stats for goals scored by a club per match using describe()"
   ]
  },
  {
   "cell_type": "code",
   "execution_count": 10,
   "metadata": {},
   "outputs": [
    {
     "data": {
      "text/plain": [
       "count    24580.000000\n",
       "mean         1.341009\n",
       "std          1.244176\n",
       "min          0.000000\n",
       "25%          0.000000\n",
       "50%          1.000000\n",
       "75%          2.000000\n",
       "max         10.000000\n",
       "Name: scored, dtype: float64"
      ]
     },
     "execution_count": 10,
     "metadata": {},
     "output_type": "execute_result"
    }
   ],
   "source": [
    "stats_per_game['scored'].describe()"
   ]
  },
  {
   "cell_type": "markdown",
   "metadata": {},
   "source": [
    "There are more than 24000 matches in this database. However, the average (mean) goals scored is pretty low at 1.341. This is not surprising considering that football/soccer is a low-scoring sport, and goals are pretty rare event."
   ]
  },
  {
   "cell_type": "markdown",
   "metadata": {},
   "source": [
    "------------------------------------------------------------------------------------------------------------------------------"
   ]
  },
  {
   "cell_type": "markdown",
   "metadata": {},
   "source": [
    "If we plot the frequency of goals scored per match in a bar chart, we see that most games of football will have very few goals (between 0-3 goals). It's rare to see any club crushing the opposition by more than 5 goals (even rarer by 10 goals)."
   ]
  },
  {
   "cell_type": "code",
   "execution_count": 11,
   "metadata": {},
   "outputs": [
    {
     "data": {
      "image/png": "[encoded data removed]",
      "text/plain": [
       "<Figure size 432x288 with 1 Axes>"
      ]
     },
     "metadata": {
      "needs_background": "light"
     },
     "output_type": "display_data"
    }
   ],
   "source": [
    "stats_per_game['scored'].value_counts().plot(kind='bar');\n",
    "plt.ylabel('Frequency')\n",
    "plt.xlabel('Number of Goals Scored')\n",
    "plt.title('Goals Scored per match Distribution');"
   ]
  },
  {
   "cell_type": "markdown",
   "metadata": {},
   "source": [
    "# Expected Goals Analysis\n",
    "\n",
    "Expected goal is a statistical measurement of the quality of goalscoring chances and the likelihood of them being scored. The number for this stat is in decimals.\n",
    "\n",
    "The first histogram will take a look at the overall distribution of expected goals."
   ]
  },
  {
   "cell_type": "code",
   "execution_count": 12,
   "metadata": {},
   "outputs": [
    {
     "data": {
      "image/png": "[encoded data removed]",
      "text/plain": [
       "<Figure size 432x288 with 1 Axes>"
      ]
     },
     "metadata": {
      "needs_background": "light"
     },
     "output_type": "display_data"
    }
   ],
   "source": [
    "stats_per_game.xG.plot(kind='hist', bins=8)\n",
    "plt.ylabel('Frequency')\n",
    "plt.xlabel('Number of Expected Goals')\n",
    "plt.title('Expected Goals Distribution');"
   ]
  },
  {
   "cell_type": "markdown",
   "metadata": {},
   "source": [
    "As we can see, most team is expected to score between 0 and 3 goals in a match. This match with our early claim that football is a rare-scoring sport, and it's normal to see few goals (or no goal) in a game.\n"
   ]
  },
  {
   "cell_type": "code",
   "execution_count": 13,
   "metadata": {},
   "outputs": [
    {
     "data": {
      "text/html": [
       "<div>\n",
       "<style scoped>\n",
       "    .dataframe tbody tr th:only-of-type {\n",
       "        vertical-align: middle;\n",
       "    }\n",
       "\n",
       "    .dataframe tbody tr th {\n",
       "        vertical-align: top;\n",
       "    }\n",
       "\n",
       "    .dataframe thead th {\n",
       "        text-align: right;\n",
       "    }\n",
       "</style>\n",
       "<table border=\"1\" class=\"dataframe\">\n",
       "  <thead>\n",
       "    <tr style=\"text-align: right;\">\n",
       "      <th></th>\n",
       "      <th>team</th>\n",
       "      <th>scored</th>\n",
       "      <th>xG</th>\n",
       "    </tr>\n",
       "  </thead>\n",
       "  <tbody>\n",
       "    <tr>\n",
       "      <th>0</th>\n",
       "      <td>Bayern Munich</td>\n",
       "      <td>2</td>\n",
       "      <td>2.570120</td>\n",
       "    </tr>\n",
       "    <tr>\n",
       "      <th>1</th>\n",
       "      <td>Bayern Munich</td>\n",
       "      <td>1</td>\n",
       "      <td>1.503280</td>\n",
       "    </tr>\n",
       "    <tr>\n",
       "      <th>2</th>\n",
       "      <td>Bayern Munich</td>\n",
       "      <td>2</td>\n",
       "      <td>1.229870</td>\n",
       "    </tr>\n",
       "    <tr>\n",
       "      <th>3</th>\n",
       "      <td>Bayern Munich</td>\n",
       "      <td>0</td>\n",
       "      <td>1.035190</td>\n",
       "    </tr>\n",
       "    <tr>\n",
       "      <th>4</th>\n",
       "      <td>Bayern Munich</td>\n",
       "      <td>4</td>\n",
       "      <td>3.482860</td>\n",
       "    </tr>\n",
       "    <tr>\n",
       "      <th>...</th>\n",
       "      <td>...</td>\n",
       "      <td>...</td>\n",
       "      <td>...</td>\n",
       "    </tr>\n",
       "    <tr>\n",
       "      <th>24575</th>\n",
       "      <td>Lecce</td>\n",
       "      <td>1</td>\n",
       "      <td>0.448154</td>\n",
       "    </tr>\n",
       "    <tr>\n",
       "      <th>24576</th>\n",
       "      <td>Lecce</td>\n",
       "      <td>1</td>\n",
       "      <td>1.699320</td>\n",
       "    </tr>\n",
       "    <tr>\n",
       "      <th>24577</th>\n",
       "      <td>Lecce</td>\n",
       "      <td>3</td>\n",
       "      <td>2.535110</td>\n",
       "    </tr>\n",
       "    <tr>\n",
       "      <th>24578</th>\n",
       "      <td>Lecce</td>\n",
       "      <td>2</td>\n",
       "      <td>2.247360</td>\n",
       "    </tr>\n",
       "    <tr>\n",
       "      <th>24579</th>\n",
       "      <td>Lecce</td>\n",
       "      <td>2</td>\n",
       "      <td>1.934840</td>\n",
       "    </tr>\n",
       "  </tbody>\n",
       "</table>\n",
       "<p>24580 rows × 3 columns</p>\n",
       "</div>"
      ],
      "text/plain": [
       "                team  scored        xG\n",
       "0      Bayern Munich       2  2.570120\n",
       "1      Bayern Munich       1  1.503280\n",
       "2      Bayern Munich       2  1.229870\n",
       "3      Bayern Munich       0  1.035190\n",
       "4      Bayern Munich       4  3.482860\n",
       "...              ...     ...       ...\n",
       "24575          Lecce       1  0.448154\n",
       "24576          Lecce       1  1.699320\n",
       "24577          Lecce       3  2.535110\n",
       "24578          Lecce       2  2.247360\n",
       "24579          Lecce       2  1.934840\n",
       "\n",
       "[24580 rows x 3 columns]"
      ]
     },
     "execution_count": 13,
     "metadata": {},
     "output_type": "execute_result"
    }
   ],
   "source": [
    "stats_per_game[['team','scored','xG']]"
   ]
  },
  {
   "cell_type": "markdown",
   "metadata": {},
   "source": [
    "-------------------------------------------------------------------------------------------------------------------------------"
   ]
  },
  {
   "cell_type": "markdown",
   "metadata": {},
   "source": [
    "## 1. Expected Goals for Clubs with xG higher than 2 but didn't score any goal"
   ]
  },
  {
   "cell_type": "markdown",
   "metadata": {},
   "source": [
    "Below is a histogram showing the distribution of clubs accumulating more than 2 expected goals but didn't score in the match.\n",
    "\n",
    "Sometimes, creating many shots and goal-scoring opportunities doesn't mean the team would definitely score goals. That is why it is absolutely crucial to take the chances and score goals."
   ]
  },
  {
   "cell_type": "code",
   "execution_count": 14,
   "metadata": {},
   "outputs": [
    {
     "data": {
      "text/plain": [
       "(167, 18)"
      ]
     },
     "execution_count": 14,
     "metadata": {},
     "output_type": "execute_result"
    }
   ],
   "source": [
    "no_goals = stats_per_game[(stats_per_game['xG'] > 2) & (stats_per_game['scored'] == 0)]\n",
    "no_goals.shape"
   ]
  },
  {
   "cell_type": "code",
   "execution_count": 15,
   "metadata": {},
   "outputs": [
    {
     "data": {
      "image/png": "[encoded data removed]",
      "text/plain": [
       "<Figure size 432x288 with 1 Axes>"
      ]
     },
     "metadata": {
      "needs_background": "light"
     },
     "output_type": "display_data"
    }
   ],
   "source": [
    "no_goals.xG.plot(kind='hist', bins=10)\n",
    "plt.ylabel('Frequency')\n",
    "plt.xlabel('Number of Expected Goals')\n",
    "plt.title(\"xG Distribution for Clubs with more than 2 xG but didn't score any goal\");"
   ]
  },
  {
   "cell_type": "markdown",
   "metadata": {},
   "source": [
    "## 2. Expected Goals Distribution for Clubs that create few shots but win the matches"
   ]
  },
  {
   "cell_type": "markdown",
   "metadata": {},
   "source": [
    "In other cases, a club might create very few chances and shots to threaten the opposition, but they managed to get the win. This histogram shows the distribution of how many times expected goals were **less than 1**. This statistic shows how important it is to score a goal, and not just creating chances that would be squandered."
   ]
  },
  {
   "cell_type": "code",
   "execution_count": 16,
   "metadata": {},
   "outputs": [
    {
     "data": {
      "image/png": "[encoded data removed]",
      "text/plain": [
       "<Figure size 432x288 with 1 Axes>"
      ]
     },
     "metadata": {
      "needs_background": "light"
     },
     "output_type": "display_data"
    }
   ],
   "source": [
    "goals_but_low_xG = stats_per_game[(stats_per_game['xG'] < 1) & (stats_per_game['result'] == \"w\")]\n",
    "goals_but_low_xG.xG.plot(kind='hist', bins=10)\n",
    "plt.ylabel('Frequency')\n",
    "plt.xlabel('Number of Expected Goals')\n",
    "plt.title(\"Expected Goals Distribution for Clubs that create few shots but win the matches\");"
   ]
  },
  {
   "cell_type": "markdown",
   "metadata": {},
   "source": [
    "## 3. Expected Goals without penalties and own goals"
   ]
  },
  {
   "cell_type": "markdown",
   "metadata": {},
   "source": [
    "Let's take a look at this chart below:"
   ]
  },
  {
   "cell_type": "code",
   "execution_count": 17,
   "metadata": {},
   "outputs": [
    {
     "data": {
      "text/html": [
       "<div>\n",
       "<style scoped>\n",
       "    .dataframe tbody tr th:only-of-type {\n",
       "        vertical-align: middle;\n",
       "    }\n",
       "\n",
       "    .dataframe tbody tr th {\n",
       "        vertical-align: top;\n",
       "    }\n",
       "\n",
       "    .dataframe thead th {\n",
       "        text-align: right;\n",
       "    }\n",
       "</style>\n",
       "<table border=\"1\" class=\"dataframe\">\n",
       "  <thead>\n",
       "    <tr style=\"text-align: right;\">\n",
       "      <th></th>\n",
       "      <th>team</th>\n",
       "      <th>scored</th>\n",
       "      <th>xG</th>\n",
       "      <th>npxG</th>\n",
       "    </tr>\n",
       "  </thead>\n",
       "  <tbody>\n",
       "    <tr>\n",
       "      <th>7</th>\n",
       "      <td>Bayern Munich</td>\n",
       "      <td>6</td>\n",
       "      <td>2.49826</td>\n",
       "      <td>1.740490</td>\n",
       "    </tr>\n",
       "    <tr>\n",
       "      <th>9</th>\n",
       "      <td>Bayern Munich</td>\n",
       "      <td>2</td>\n",
       "      <td>2.64367</td>\n",
       "      <td>1.886050</td>\n",
       "    </tr>\n",
       "    <tr>\n",
       "      <th>20</th>\n",
       "      <td>Bayern Munich</td>\n",
       "      <td>8</td>\n",
       "      <td>4.17851</td>\n",
       "      <td>3.420730</td>\n",
       "    </tr>\n",
       "    <tr>\n",
       "      <th>21</th>\n",
       "      <td>Bayern Munich</td>\n",
       "      <td>6</td>\n",
       "      <td>3.12815</td>\n",
       "      <td>2.370380</td>\n",
       "    </tr>\n",
       "    <tr>\n",
       "      <th>23</th>\n",
       "      <td>Bayern Munich</td>\n",
       "      <td>3</td>\n",
       "      <td>1.33559</td>\n",
       "      <td>0.577811</td>\n",
       "    </tr>\n",
       "    <tr>\n",
       "      <th>...</th>\n",
       "      <td>...</td>\n",
       "      <td>...</td>\n",
       "      <td>...</td>\n",
       "      <td>...</td>\n",
       "    </tr>\n",
       "    <tr>\n",
       "      <th>24571</th>\n",
       "      <td>Lecce</td>\n",
       "      <td>1</td>\n",
       "      <td>1.75314</td>\n",
       "      <td>0.991880</td>\n",
       "    </tr>\n",
       "    <tr>\n",
       "      <th>24572</th>\n",
       "      <td>Lecce</td>\n",
       "      <td>2</td>\n",
       "      <td>2.04843</td>\n",
       "      <td>1.287140</td>\n",
       "    </tr>\n",
       "    <tr>\n",
       "      <th>24573</th>\n",
       "      <td>Lecce</td>\n",
       "      <td>2</td>\n",
       "      <td>3.02321</td>\n",
       "      <td>2.261910</td>\n",
       "    </tr>\n",
       "    <tr>\n",
       "      <th>24576</th>\n",
       "      <td>Lecce</td>\n",
       "      <td>1</td>\n",
       "      <td>1.69932</td>\n",
       "      <td>0.938022</td>\n",
       "    </tr>\n",
       "    <tr>\n",
       "      <th>24579</th>\n",
       "      <td>Lecce</td>\n",
       "      <td>2</td>\n",
       "      <td>1.93484</td>\n",
       "      <td>1.173540</td>\n",
       "    </tr>\n",
       "  </tbody>\n",
       "</table>\n",
       "<p>3515 rows × 4 columns</p>\n",
       "</div>"
      ],
      "text/plain": [
       "                team  scored       xG      npxG\n",
       "7      Bayern Munich       6  2.49826  1.740490\n",
       "9      Bayern Munich       2  2.64367  1.886050\n",
       "20     Bayern Munich       8  4.17851  3.420730\n",
       "21     Bayern Munich       6  3.12815  2.370380\n",
       "23     Bayern Munich       3  1.33559  0.577811\n",
       "...              ...     ...      ...       ...\n",
       "24571          Lecce       1  1.75314  0.991880\n",
       "24572          Lecce       2  2.04843  1.287140\n",
       "24573          Lecce       2  3.02321  2.261910\n",
       "24576          Lecce       1  1.69932  0.938022\n",
       "24579          Lecce       2  1.93484  1.173540\n",
       "\n",
       "[3515 rows x 4 columns]"
      ]
     },
     "execution_count": 17,
     "metadata": {},
     "output_type": "execute_result"
    }
   ],
   "source": [
    "goals_with_penalties = stats_per_game[(stats_per_game['xG'] > stats_per_game['npxG'])]\n",
    "goals_with_penalties[['team', 'scored', 'xG', 'npxG']]"
   ]
  },
  {
   "cell_type": "markdown",
   "metadata": {},
   "source": [
    "npxG is the number of expected goals **WITHOUT** penalties or own goals. So we can assume that for the chart below, each club has at least score one penalty in the game, which put the xG stats much higher. \n",
    "\n",
    "I will create a new column called **npxG_diff**: the difference between expected goals with and without penalties and own goals."
   ]
  },
  {
   "cell_type": "code",
   "execution_count": 18,
   "metadata": {},
   "outputs": [],
   "source": [
    "stats_per_game['npxG_diff'] = stats_per_game['xG'] - stats_per_game['npxG']"
   ]
  },
  {
   "cell_type": "markdown",
   "metadata": {},
   "source": [
    "Let's see the new chart with new column included:"
   ]
  },
  {
   "cell_type": "code",
   "execution_count": 19,
   "metadata": {},
   "outputs": [
    {
     "data": {
      "text/html": [
       "<div>\n",
       "<style scoped>\n",
       "    .dataframe tbody tr th:only-of-type {\n",
       "        vertical-align: middle;\n",
       "    }\n",
       "\n",
       "    .dataframe tbody tr th {\n",
       "        vertical-align: top;\n",
       "    }\n",
       "\n",
       "    .dataframe thead th {\n",
       "        text-align: right;\n",
       "    }\n",
       "</style>\n",
       "<table border=\"1\" class=\"dataframe\">\n",
       "  <thead>\n",
       "    <tr style=\"text-align: right;\">\n",
       "      <th></th>\n",
       "      <th>team</th>\n",
       "      <th>scored</th>\n",
       "      <th>xG</th>\n",
       "      <th>npxG</th>\n",
       "      <th>npxG_diff</th>\n",
       "    </tr>\n",
       "  </thead>\n",
       "  <tbody>\n",
       "    <tr>\n",
       "      <th>7</th>\n",
       "      <td>Bayern Munich</td>\n",
       "      <td>6</td>\n",
       "      <td>2.49826</td>\n",
       "      <td>1.740490</td>\n",
       "      <td>0.757770</td>\n",
       "    </tr>\n",
       "    <tr>\n",
       "      <th>9</th>\n",
       "      <td>Bayern Munich</td>\n",
       "      <td>2</td>\n",
       "      <td>2.64367</td>\n",
       "      <td>1.886050</td>\n",
       "      <td>0.757620</td>\n",
       "    </tr>\n",
       "    <tr>\n",
       "      <th>20</th>\n",
       "      <td>Bayern Munich</td>\n",
       "      <td>8</td>\n",
       "      <td>4.17851</td>\n",
       "      <td>3.420730</td>\n",
       "      <td>0.757780</td>\n",
       "    </tr>\n",
       "    <tr>\n",
       "      <th>21</th>\n",
       "      <td>Bayern Munich</td>\n",
       "      <td>6</td>\n",
       "      <td>3.12815</td>\n",
       "      <td>2.370380</td>\n",
       "      <td>0.757770</td>\n",
       "    </tr>\n",
       "    <tr>\n",
       "      <th>23</th>\n",
       "      <td>Bayern Munich</td>\n",
       "      <td>3</td>\n",
       "      <td>1.33559</td>\n",
       "      <td>0.577811</td>\n",
       "      <td>0.757779</td>\n",
       "    </tr>\n",
       "    <tr>\n",
       "      <th>...</th>\n",
       "      <td>...</td>\n",
       "      <td>...</td>\n",
       "      <td>...</td>\n",
       "      <td>...</td>\n",
       "      <td>...</td>\n",
       "    </tr>\n",
       "    <tr>\n",
       "      <th>24571</th>\n",
       "      <td>Lecce</td>\n",
       "      <td>1</td>\n",
       "      <td>1.75314</td>\n",
       "      <td>0.991880</td>\n",
       "      <td>0.761260</td>\n",
       "    </tr>\n",
       "    <tr>\n",
       "      <th>24572</th>\n",
       "      <td>Lecce</td>\n",
       "      <td>2</td>\n",
       "      <td>2.04843</td>\n",
       "      <td>1.287140</td>\n",
       "      <td>0.761290</td>\n",
       "    </tr>\n",
       "    <tr>\n",
       "      <th>24573</th>\n",
       "      <td>Lecce</td>\n",
       "      <td>2</td>\n",
       "      <td>3.02321</td>\n",
       "      <td>2.261910</td>\n",
       "      <td>0.761300</td>\n",
       "    </tr>\n",
       "    <tr>\n",
       "      <th>24576</th>\n",
       "      <td>Lecce</td>\n",
       "      <td>1</td>\n",
       "      <td>1.69932</td>\n",
       "      <td>0.938022</td>\n",
       "      <td>0.761298</td>\n",
       "    </tr>\n",
       "    <tr>\n",
       "      <th>24579</th>\n",
       "      <td>Lecce</td>\n",
       "      <td>2</td>\n",
       "      <td>1.93484</td>\n",
       "      <td>1.173540</td>\n",
       "      <td>0.761300</td>\n",
       "    </tr>\n",
       "  </tbody>\n",
       "</table>\n",
       "<p>3515 rows × 5 columns</p>\n",
       "</div>"
      ],
      "text/plain": [
       "                team  scored       xG      npxG  npxG_diff\n",
       "7      Bayern Munich       6  2.49826  1.740490   0.757770\n",
       "9      Bayern Munich       2  2.64367  1.886050   0.757620\n",
       "20     Bayern Munich       8  4.17851  3.420730   0.757780\n",
       "21     Bayern Munich       6  3.12815  2.370380   0.757770\n",
       "23     Bayern Munich       3  1.33559  0.577811   0.757779\n",
       "...              ...     ...      ...       ...        ...\n",
       "24571          Lecce       1  1.75314  0.991880   0.761260\n",
       "24572          Lecce       2  2.04843  1.287140   0.761290\n",
       "24573          Lecce       2  3.02321  2.261910   0.761300\n",
       "24576          Lecce       1  1.69932  0.938022   0.761298\n",
       "24579          Lecce       2  1.93484  1.173540   0.761300\n",
       "\n",
       "[3515 rows x 5 columns]"
      ]
     },
     "execution_count": 19,
     "metadata": {},
     "output_type": "execute_result"
    }
   ],
   "source": [
    "goals_with_penalties = stats_per_game[(stats_per_game['xG'] > stats_per_game['npxG'])]\n",
    "goals_with_penalties[['team', 'scored', 'xG', 'npxG', 'npxG_diff']]"
   ]
  },
  {
   "cell_type": "markdown",
   "metadata": {},
   "source": [
    "If we notice, the npxG_diff for every club that has a higher xG than npxG is **0.75 or higher**. Why is that?\n",
    "\n",
    "Because all penalties are the same: they are 12 yards from the goal, and every player taking the penalties take it from the same position. 0.75 is the expected goal for a penalty, which means there is a 75% of successfully scoring from the spot."
   ]
  },
  {
   "cell_type": "markdown",
   "metadata": {},
   "source": [
    "## Expected Points Analysis"
   ]
  },
  {
   "cell_type": "markdown",
   "metadata": {},
   "source": [
    "In the football rulebook, a win is worth **3 points**, a draw is **1 point**, and a loss is **0 points**. However, with the expected points statistics, we have a more realistic look at how many points the club is expected to earn based on the quality of their chances and how those chances would have affected the match in the long run."
   ]
  },
  {
   "cell_type": "markdown",
   "metadata": {},
   "source": [
    "The chart below shows a distribution from 0 expected points to 3 (the most points a club can earn for a win)"
   ]
  },
  {
   "cell_type": "code",
   "execution_count": 20,
   "metadata": {},
   "outputs": [
    {
     "data": {
      "image/png": "[encoded data removed]",
      "text/plain": [
       "<Figure size 432x288 with 1 Axes>"
      ]
     },
     "metadata": {
      "needs_background": "light"
     },
     "output_type": "display_data"
    }
   ],
   "source": [
    "stats_per_game.xpts.plot(kind='hist', bins=6)\n",
    "plt.ylabel('Frequency')\n",
    "plt.xlabel('Number of Expected Points')\n",
    "plt.title('Expected Points Distribution');"
   ]
  },
  {
   "cell_type": "code",
   "execution_count": 21,
   "metadata": {},
   "outputs": [
    {
     "data": {
      "text/plain": [
       "count    24580.000000\n",
       "mean         1.378563\n",
       "std          0.823751\n",
       "min          0.000000\n",
       "25%          0.673950\n",
       "50%          1.328900\n",
       "75%          2.051025\n",
       "max          3.000000\n",
       "Name: xpts, dtype: float64"
      ]
     },
     "execution_count": 21,
     "metadata": {},
     "output_type": "execute_result"
    }
   ],
   "source": [
    "stats_per_game['xpts'].describe()"
   ]
  },
  {
   "cell_type": "markdown",
   "metadata": {},
   "source": [
    "As shown in the chart, most teams are likely to earn around 0.5-1.5 expected points. This means that they might have create a lot of chances but they didn't score as much, while letting conceding goal-scoring opportunities from the opponent."
   ]
  },
  {
   "cell_type": "markdown",
   "metadata": {},
   "source": [
    "This list below shows how some clubs are expected to earn much fewer points despite winning the match. xpts_diff is the difference between actual points earned and expected points."
   ]
  },
  {
   "cell_type": "code",
   "execution_count": 22,
   "metadata": {},
   "outputs": [
    {
     "data": {
      "text/html": [
       "<div>\n",
       "<style scoped>\n",
       "    .dataframe tbody tr th:only-of-type {\n",
       "        vertical-align: middle;\n",
       "    }\n",
       "\n",
       "    .dataframe tbody tr th {\n",
       "        vertical-align: top;\n",
       "    }\n",
       "\n",
       "    .dataframe thead th {\n",
       "        text-align: right;\n",
       "    }\n",
       "</style>\n",
       "<table border=\"1\" class=\"dataframe\">\n",
       "  <thead>\n",
       "    <tr style=\"text-align: right;\">\n",
       "      <th></th>\n",
       "      <th>team</th>\n",
       "      <th>scored</th>\n",
       "      <th>missed</th>\n",
       "      <th>xG</th>\n",
       "      <th>xGA</th>\n",
       "      <th>xpts</th>\n",
       "      <th>xpts_diff</th>\n",
       "    </tr>\n",
       "  </thead>\n",
       "  <tbody>\n",
       "    <tr>\n",
       "      <th>53</th>\n",
       "      <td>Hamburger SV</td>\n",
       "      <td>2</td>\n",
       "      <td>1</td>\n",
       "      <td>0.674771</td>\n",
       "      <td>2.24545</td>\n",
       "      <td>0.3214</td>\n",
       "      <td>-2.6786</td>\n",
       "    </tr>\n",
       "    <tr>\n",
       "      <th>93</th>\n",
       "      <td>Bayer Leverkusen</td>\n",
       "      <td>1</td>\n",
       "      <td>0</td>\n",
       "      <td>1.317400</td>\n",
       "      <td>1.79663</td>\n",
       "      <td>0.9871</td>\n",
       "      <td>-2.0129</td>\n",
       "    </tr>\n",
       "    <tr>\n",
       "      <th>95</th>\n",
       "      <td>Bayer Leverkusen</td>\n",
       "      <td>3</td>\n",
       "      <td>2</td>\n",
       "      <td>0.970257</td>\n",
       "      <td>2.21349</td>\n",
       "      <td>0.4237</td>\n",
       "      <td>-2.5763</td>\n",
       "    </tr>\n",
       "    <tr>\n",
       "      <th>152</th>\n",
       "      <td>Augsburg</td>\n",
       "      <td>2</td>\n",
       "      <td>1</td>\n",
       "      <td>1.655610</td>\n",
       "      <td>2.17588</td>\n",
       "      <td>0.9716</td>\n",
       "      <td>-2.0284</td>\n",
       "    </tr>\n",
       "    <tr>\n",
       "      <th>164</th>\n",
       "      <td>Augsburg</td>\n",
       "      <td>2</td>\n",
       "      <td>1</td>\n",
       "      <td>1.144010</td>\n",
       "      <td>2.41152</td>\n",
       "      <td>0.4976</td>\n",
       "      <td>-2.5024</td>\n",
       "    </tr>\n",
       "    <tr>\n",
       "      <th>...</th>\n",
       "      <td>...</td>\n",
       "      <td>...</td>\n",
       "      <td>...</td>\n",
       "      <td>...</td>\n",
       "      <td>...</td>\n",
       "      <td>...</td>\n",
       "      <td>...</td>\n",
       "    </tr>\n",
       "    <tr>\n",
       "      <th>24450</th>\n",
       "      <td>SPAL 2013</td>\n",
       "      <td>2</td>\n",
       "      <td>1</td>\n",
       "      <td>1.210910</td>\n",
       "      <td>2.45221</td>\n",
       "      <td>0.5803</td>\n",
       "      <td>-2.4197</td>\n",
       "    </tr>\n",
       "    <tr>\n",
       "      <th>24482</th>\n",
       "      <td>Parma Calcio 1913</td>\n",
       "      <td>1</td>\n",
       "      <td>0</td>\n",
       "      <td>0.602606</td>\n",
       "      <td>1.19231</td>\n",
       "      <td>0.8429</td>\n",
       "      <td>-2.1571</td>\n",
       "    </tr>\n",
       "    <tr>\n",
       "      <th>24483</th>\n",
       "      <td>Parma Calcio 1913</td>\n",
       "      <td>2</td>\n",
       "      <td>1</td>\n",
       "      <td>1.292770</td>\n",
       "      <td>1.88263</td>\n",
       "      <td>0.9867</td>\n",
       "      <td>-2.0133</td>\n",
       "    </tr>\n",
       "    <tr>\n",
       "      <th>24491</th>\n",
       "      <td>Parma Calcio 1913</td>\n",
       "      <td>1</td>\n",
       "      <td>0</td>\n",
       "      <td>0.819298</td>\n",
       "      <td>1.39228</td>\n",
       "      <td>0.8363</td>\n",
       "      <td>-2.1637</td>\n",
       "    </tr>\n",
       "    <tr>\n",
       "      <th>24565</th>\n",
       "      <td>Lecce</td>\n",
       "      <td>3</td>\n",
       "      <td>2</td>\n",
       "      <td>1.833340</td>\n",
       "      <td>3.48129</td>\n",
       "      <td>0.4339</td>\n",
       "      <td>-2.5661</td>\n",
       "    </tr>\n",
       "  </tbody>\n",
       "</table>\n",
       "<p>973 rows × 7 columns</p>\n",
       "</div>"
      ],
      "text/plain": [
       "                    team  scored  missed        xG      xGA    xpts  xpts_diff\n",
       "53          Hamburger SV       2       1  0.674771  2.24545  0.3214    -2.6786\n",
       "93      Bayer Leverkusen       1       0  1.317400  1.79663  0.9871    -2.0129\n",
       "95      Bayer Leverkusen       3       2  0.970257  2.21349  0.4237    -2.5763\n",
       "152             Augsburg       2       1  1.655610  2.17588  0.9716    -2.0284\n",
       "164             Augsburg       2       1  1.144010  2.41152  0.4976    -2.5024\n",
       "...                  ...     ...     ...       ...      ...     ...        ...\n",
       "24450          SPAL 2013       2       1  1.210910  2.45221  0.5803    -2.4197\n",
       "24482  Parma Calcio 1913       1       0  0.602606  1.19231  0.8429    -2.1571\n",
       "24483  Parma Calcio 1913       2       1  1.292770  1.88263  0.9867    -2.0133\n",
       "24491  Parma Calcio 1913       1       0  0.819298  1.39228  0.8363    -2.1637\n",
       "24565              Lecce       3       2  1.833340  3.48129  0.4339    -2.5661\n",
       "\n",
       "[973 rows x 7 columns]"
      ]
     },
     "execution_count": 22,
     "metadata": {},
     "output_type": "execute_result"
    }
   ],
   "source": [
    "win_but_low_xpts = stats_per_game[(stats_per_game['result'] == 'w' ) & (stats_per_game['xpts'] < 1)]\n",
    "win_but_low_xpts[['team', 'scored', 'missed', 'xG', 'xGA','xpts', 'xpts_diff']]"
   ]
  },
  {
   "cell_type": "markdown",
   "metadata": {},
   "source": [
    "There are several factors that contribute to this unusual outcome. It could be that the winning team is expected to score fewer goals than they actually scored, meaning that they take their chances and score. It could also mean that they are expected to concede more goals (xGA) than they actually missed in the match, which has a negative affect on the expected points earned for that game."
   ]
  },
  {
   "cell_type": "markdown",
   "metadata": {},
   "source": [
    "-------------------------------------------------------------------------------------------------------------------------------"
   ]
  },
  {
   "cell_type": "markdown",
   "metadata": {},
   "source": [
    "# Conclusion\n",
    "\n",
    "- The team that creates more chances does not always win the game; which is why it's crucial to take those chances and score\n",
    "\n",
    "- The team that wins a game does not necessarily get a high expected points tally; it's just means that the opponent created more chances but they didn't score."
   ]
  },
  {
   "cell_type": "markdown",
   "metadata": {},
   "source": [
    "# Future Research\n",
    "\n",
    "- I will look into which player is creating the most chances in a game, and what's their goal conversion rate, so we can judge if he is a consistent goal scorer or not.\n",
    "- I will look closer into each chance a team create in the match, and see what their actual xG is for that opportunity."
   ]
  }
 ],
 "metadata": {
  "kernelspec": {
   "display_name": "Python 3",
   "language": "python",
   "name": "python3"
  },
  "language_info": {
   "codemirror_mode": {
    "name": "ipython",
    "version": 3
   },
   "file_extension": ".py",
   "mimetype": "text/x-python",
   "name": "python",
   "nbconvert_exporter": "python",
   "pygments_lexer": "ipython3",
   "version": "3.7.6"
  }
 },
 "nbformat": 4,
 "nbformat_minor": 2
}
